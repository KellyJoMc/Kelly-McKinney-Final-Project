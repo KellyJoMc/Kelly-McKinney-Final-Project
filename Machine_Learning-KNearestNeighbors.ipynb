{
 "cells": [
  {
   "cell_type": "code",
   "execution_count": 1,
   "id": "2e1d654b",
   "metadata": {},
   "outputs": [],
   "source": [
    "import pandas as pd\n",
    "import numpy as np\n",
    "import matplotlib.pyplot as plt\n",
    "import seaborn as sns\n",
    "%matplotlib inline\n",
    "from sklearn.preprocessing import StandardScaler\n",
    "from sklearn.model_selection import train_test_split\n",
    "from sklearn.neighbors import KNeighborsClassifier\n",
    "from sklearn.metrics import classification_report, confusion_matrix"
   ]
  },
  {
   "cell_type": "code",
   "execution_count": 2,
   "id": "8a2dfe3a",
   "metadata": {},
   "outputs": [],
   "source": [
    "chess = pd.read_csv(\"chessTrimmed.csv\")"
   ]
  },
  {
   "cell_type": "code",
   "execution_count": 3,
   "id": "0b18513e",
   "metadata": {},
   "outputs": [
    {
     "data": {
      "text/html": [
       "<div>\n",
       "<style scoped>\n",
       "    .dataframe tbody tr th:only-of-type {\n",
       "        vertical-align: middle;\n",
       "    }\n",
       "\n",
       "    .dataframe tbody tr th {\n",
       "        vertical-align: top;\n",
       "    }\n",
       "\n",
       "    .dataframe thead th {\n",
       "        text-align: right;\n",
       "    }\n",
       "</style>\n",
       "<table border=\"1\" class=\"dataframe\">\n",
       "  <thead>\n",
       "    <tr style=\"text-align: right;\">\n",
       "      <th></th>\n",
       "      <th>Unnamed: 0</th>\n",
       "      <th>turns</th>\n",
       "      <th>victory_statusR</th>\n",
       "      <th>winnerR</th>\n",
       "      <th>black_rating</th>\n",
       "      <th>white_rating</th>\n",
       "    </tr>\n",
       "  </thead>\n",
       "  <tbody>\n",
       "    <tr>\n",
       "      <th>0</th>\n",
       "      <td>0</td>\n",
       "      <td>-1.413916</td>\n",
       "      <td>1</td>\n",
       "      <td>1</td>\n",
       "      <td>1191</td>\n",
       "      <td>1500</td>\n",
       "    </tr>\n",
       "    <tr>\n",
       "      <th>1</th>\n",
       "      <td>1</td>\n",
       "      <td>-1.324552</td>\n",
       "      <td>2</td>\n",
       "      <td>2</td>\n",
       "      <td>1261</td>\n",
       "      <td>1322</td>\n",
       "    </tr>\n",
       "    <tr>\n",
       "      <th>2</th>\n",
       "      <td>2</td>\n",
       "      <td>0.015907</td>\n",
       "      <td>3</td>\n",
       "      <td>1</td>\n",
       "      <td>1500</td>\n",
       "      <td>1496</td>\n",
       "    </tr>\n",
       "    <tr>\n",
       "      <th>3</th>\n",
       "      <td>3</td>\n",
       "      <td>0.015907</td>\n",
       "      <td>3</td>\n",
       "      <td>1</td>\n",
       "      <td>1454</td>\n",
       "      <td>1439</td>\n",
       "    </tr>\n",
       "    <tr>\n",
       "      <th>4</th>\n",
       "      <td>4</td>\n",
       "      <td>1.028698</td>\n",
       "      <td>3</td>\n",
       "      <td>1</td>\n",
       "      <td>1469</td>\n",
       "      <td>1523</td>\n",
       "    </tr>\n",
       "  </tbody>\n",
       "</table>\n",
       "</div>"
      ],
      "text/plain": [
       "   Unnamed: 0     turns  victory_statusR  winnerR  black_rating  white_rating\n",
       "0           0 -1.413916                1        1          1191          1500\n",
       "1           1 -1.324552                2        2          1261          1322\n",
       "2           2  0.015907                3        1          1500          1496\n",
       "3           3  0.015907                3        1          1454          1439\n",
       "4           4  1.028698                3        1          1469          1523"
      ]
     },
     "execution_count": 3,
     "metadata": {},
     "output_type": "execute_result"
    }
   ],
   "source": [
    "chess.head()"
   ]
  },
  {
   "cell_type": "code",
   "execution_count": 5,
   "id": "8d2e760e",
   "metadata": {},
   "outputs": [],
   "source": [
    "chess1 = chess[['turns', 'victory_statusR', 'black_rating', 'white_rating', 'winnerR']]"
   ]
  },
  {
   "cell_type": "code",
   "execution_count": 6,
   "id": "6835fdee",
   "metadata": {},
   "outputs": [],
   "source": [
    "scaler = StandardScaler()\n",
    "scaler.fit(chess1.drop('winnerR', axis=1))\n",
    "scaledVariables = scaler.transform(chess1.drop('winnerR',axis=1))\n",
    "chessScaled = pd.DataFrame(scaledVariables, columns=chess1.columns[:-1])"
   ]
  },
  {
   "cell_type": "code",
   "execution_count": 7,
   "id": "be5382fb",
   "metadata": {},
   "outputs": [
    {
     "data": {
      "text/html": [
       "<div>\n",
       "<style scoped>\n",
       "    .dataframe tbody tr th:only-of-type {\n",
       "        vertical-align: middle;\n",
       "    }\n",
       "\n",
       "    .dataframe tbody tr th {\n",
       "        vertical-align: top;\n",
       "    }\n",
       "\n",
       "    .dataframe thead th {\n",
       "        text-align: right;\n",
       "    }\n",
       "</style>\n",
       "<table border=\"1\" class=\"dataframe\">\n",
       "  <thead>\n",
       "    <tr style=\"text-align: right;\">\n",
       "      <th></th>\n",
       "      <th>turns</th>\n",
       "      <th>victory_statusR</th>\n",
       "      <th>black_rating</th>\n",
       "      <th>white_rating</th>\n",
       "    </tr>\n",
       "  </thead>\n",
       "  <tbody>\n",
       "    <tr>\n",
       "      <th>0</th>\n",
       "      <td>-1.413952</td>\n",
       "      <td>-1.915744</td>\n",
       "      <td>-1.366985</td>\n",
       "      <td>-0.331788</td>\n",
       "    </tr>\n",
       "    <tr>\n",
       "      <th>1</th>\n",
       "      <td>-1.324585</td>\n",
       "      <td>-0.466527</td>\n",
       "      <td>-1.126459</td>\n",
       "      <td>-0.942955</td>\n",
       "    </tr>\n",
       "    <tr>\n",
       "      <th>2</th>\n",
       "      <td>0.015907</td>\n",
       "      <td>0.982690</td>\n",
       "      <td>-0.305234</td>\n",
       "      <td>-0.345522</td>\n",
       "    </tr>\n",
       "    <tr>\n",
       "      <th>3</th>\n",
       "      <td>0.015907</td>\n",
       "      <td>0.982690</td>\n",
       "      <td>-0.463294</td>\n",
       "      <td>-0.541233</td>\n",
       "    </tr>\n",
       "    <tr>\n",
       "      <th>4</th>\n",
       "      <td>1.028724</td>\n",
       "      <td>0.982690</td>\n",
       "      <td>-0.411753</td>\n",
       "      <td>-0.252817</td>\n",
       "    </tr>\n",
       "  </tbody>\n",
       "</table>\n",
       "</div>"
      ],
      "text/plain": [
       "      turns  victory_statusR  black_rating  white_rating\n",
       "0 -1.413952        -1.915744     -1.366985     -0.331788\n",
       "1 -1.324585        -0.466527     -1.126459     -0.942955\n",
       "2  0.015907         0.982690     -0.305234     -0.345522\n",
       "3  0.015907         0.982690     -0.463294     -0.541233\n",
       "4  1.028724         0.982690     -0.411753     -0.252817"
      ]
     },
     "execution_count": 7,
     "metadata": {},
     "output_type": "execute_result"
    }
   ],
   "source": [
    "chessScaled.head()"
   ]
  },
  {
   "cell_type": "code",
   "execution_count": 8,
   "id": "47cb7d55",
   "metadata": {},
   "outputs": [],
   "source": [
    "x = chessScaled\n",
    "y = chess1['winnerR']"
   ]
  },
  {
   "cell_type": "code",
   "execution_count": 9,
   "id": "d8972e88",
   "metadata": {},
   "outputs": [],
   "source": [
    "x_train, x_test, y_train, y_test = train_test_split(x,y,test_size=0.3)"
   ]
  },
  {
   "cell_type": "code",
   "execution_count": 10,
   "id": "af84a4f0",
   "metadata": {},
   "outputs": [],
   "source": [
    "knn = KNeighborsClassifier(n_neighbors=1)\n",
    "knn.fit(x_train, y_train)\n",
    "pred = knn.predict(x_test)"
   ]
  },
  {
   "cell_type": "code",
   "execution_count": 11,
   "id": "2ac6541a",
   "metadata": {},
   "outputs": [
    {
     "name": "stdout",
     "output_type": "stream",
     "text": [
      "[[1912 1114    5]\n",
      " [1091 1609    6]\n",
      " [   7    3  271]]\n",
      "              precision    recall  f1-score   support\n",
      "\n",
      "           1       0.64      0.63      0.63      3031\n",
      "           2       0.59      0.59      0.59      2706\n",
      "           3       0.96      0.96      0.96       281\n",
      "\n",
      "    accuracy                           0.63      6018\n",
      "   macro avg       0.73      0.73      0.73      6018\n",
      "weighted avg       0.63      0.63      0.63      6018\n",
      "\n"
     ]
    }
   ],
   "source": [
    "print(confusion_matrix(y_test, pred))\n",
    "print(classification_report(y_test,pred))"
   ]
  },
  {
   "cell_type": "markdown",
   "id": "89ba18ed",
   "metadata": {},
   "source": [
    "## Looks like this model isn't the best at precision at 63% weighted average. It's great at predicting a draw (96%), but not at predicting a white win (64%), or a black win (59%). "
   ]
  },
  {
   "cell_type": "markdown",
   "id": "f50dd171",
   "metadata": {},
   "source": [
    "## Seeing if adding neighbors will increase accuracy"
   ]
  },
  {
   "cell_type": "code",
   "execution_count": 12,
   "id": "c8ce5f6a",
   "metadata": {},
   "outputs": [],
   "source": [
    "errorRate = []\n",
    "for i in range(1,40):\n",
    "    knn = KNeighborsClassifier(n_neighbors=i)\n",
    "    knn.fit(x_train, y_train)\n",
    "    predI = knn.predict(x_test)\n",
    "    errorRate.append(np.mean(predI != y_test))"
   ]
  },
  {
   "cell_type": "code",
   "execution_count": 13,
   "id": "5a65b1d9",
   "metadata": {},
   "outputs": [
    {
     "data": {
      "text/plain": [
       "Text(0, 0.5, 'Error Rate')"
      ]
     },
     "execution_count": 13,
     "metadata": {},
     "output_type": "execute_result"
    },
    {
     "data": {
      "image/png": "[encoded data removed]",
      "text/plain": [
       "<Figure size 720x432 with 1 Axes>"
      ]
     },
     "metadata": {
      "needs_background": "light"
     },
     "output_type": "display_data"
    }
   ],
   "source": [
    "plt.figure(figsize=(10,6))\n",
    "plt.plot(range(1,40), errorRate, color='blue', linestyle='dashed', marker='o', markerfacecolor='red', markersize=10)\n",
    "plt.title('Error Rate vs K Value')\n",
    "plt.xlabel('K')\n",
    "plt.ylabel('Error Rate')"
   ]
  },
  {
   "cell_type": "markdown",
   "id": "c4f2b5d6",
   "metadata": {},
   "source": [
    "## Looks like the lowest error rate is at 31 and 35 neighbors. Creating a model with 31. "
   ]
  },
  {
   "cell_type": "code",
   "execution_count": 15,
   "id": "5fdeaae2",
   "metadata": {},
   "outputs": [],
   "source": [
    "knn = KNeighborsClassifier(n_neighbors=31)\n",
    "knn.fit(x_train, y_train)\n",
    "pred = knn.predict(x_test)"
   ]
  },
  {
   "cell_type": "code",
   "execution_count": 16,
   "id": "15062854",
   "metadata": {},
   "outputs": [
    {
     "name": "stdout",
     "output_type": "stream",
     "text": [
      "[[2088  943    0]\n",
      " [1106 1600    0]\n",
      " [   5    6  270]]\n",
      "              precision    recall  f1-score   support\n",
      "\n",
      "           1       0.65      0.69      0.67      3031\n",
      "           2       0.63      0.59      0.61      2706\n",
      "           3       1.00      0.96      0.98       281\n",
      "\n",
      "    accuracy                           0.66      6018\n",
      "   macro avg       0.76      0.75      0.75      6018\n",
      "weighted avg       0.66      0.66      0.66      6018\n",
      "\n"
     ]
    }
   ],
   "source": [
    "print(confusion_matrix(y_test, pred))\n",
    "print(classification_report(y_test,pred))"
   ]
  },
  {
   "cell_type": "markdown",
   "id": "1796e4f0",
   "metadata": {},
   "source": [
    "## Increased the accuracy somewhat. But this still isn't a great model. "
   ]
  },
  {
   "cell_type": "code",
   "execution_count": null,
   "id": "5e1b30d9",
   "metadata": {},
   "outputs": [],
   "source": []
  }
 ],
 "metadata": {
  "kernelspec": {
   "display_name": "Python 3",
   "language": "python",
   "name": "python3"
  },
  "language_info": {
   "codemirror_mode": {
    "name": "ipython",
    "version": 3
   },
   "file_extension": ".py",
   "mimetype": "text/x-python",
   "name": "python",
   "nbconvert_exporter": "python",
   "pygments_lexer": "ipython3",
   "version": "3.8.8"
  }
 },
 "nbformat": 4,
 "nbformat_minor": 5
}
