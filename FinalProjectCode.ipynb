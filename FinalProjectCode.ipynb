{
 "cells": [
  {
   "cell_type": "code",
   "execution_count": 1,
   "id": "b1361980",
   "metadata": {},
   "outputs": [],
   "source": [
    "import pandas as pd\n",
    "import numpy as np"
   ]
  },
  {
   "cell_type": "code",
   "execution_count": 2,
   "id": "9351f217",
   "metadata": {},
   "outputs": [],
   "source": [
    "chess = pd.read_csv(\"chess.csv\")"
   ]
  },
  {
   "cell_type": "code",
   "execution_count": 3,
   "id": "1ac373b2",
   "metadata": {},
   "outputs": [
    {
     "data": {
      "text/html": [
       "<div>\n",
       "<style scoped>\n",
       "    .dataframe tbody tr th:only-of-type {\n",
       "        vertical-align: middle;\n",
       "    }\n",
       "\n",
       "    .dataframe tbody tr th {\n",
       "        vertical-align: top;\n",
       "    }\n",
       "\n",
       "    .dataframe thead th {\n",
       "        text-align: right;\n",
       "    }\n",
       "</style>\n",
       "<table border=\"1\" class=\"dataframe\">\n",
       "  <thead>\n",
       "    <tr style=\"text-align: right;\">\n",
       "      <th></th>\n",
       "      <th>id</th>\n",
       "      <th>rated</th>\n",
       "      <th>created_at</th>\n",
       "      <th>last_move_at</th>\n",
       "      <th>turns</th>\n",
       "      <th>victory_status</th>\n",
       "      <th>winner</th>\n",
       "      <th>increment_code</th>\n",
       "      <th>white_id</th>\n",
       "      <th>white_rating</th>\n",
       "      <th>black_id</th>\n",
       "      <th>black_rating</th>\n",
       "      <th>moves</th>\n",
       "      <th>opening_eco</th>\n",
       "      <th>opening_name</th>\n",
       "      <th>opening_ply</th>\n",
       "    </tr>\n",
       "  </thead>\n",
       "  <tbody>\n",
       "    <tr>\n",
       "      <th>0</th>\n",
       "      <td>TZJHLljE</td>\n",
       "      <td>False</td>\n",
       "      <td>1.500000e+12</td>\n",
       "      <td>1.500000e+12</td>\n",
       "      <td>13</td>\n",
       "      <td>outoftime</td>\n",
       "      <td>white</td>\n",
       "      <td>15+2</td>\n",
       "      <td>bourgris</td>\n",
       "      <td>1500</td>\n",
       "      <td>a-00</td>\n",
       "      <td>1191</td>\n",
       "      <td>d4 d5 c4 c6 cxd5 e6 dxe6 fxe6 Nf3 Bb4+ Nc3 Ba5...</td>\n",
       "      <td>D10</td>\n",
       "      <td>Slav Defense: Exchange Variation</td>\n",
       "      <td>5</td>\n",
       "    </tr>\n",
       "    <tr>\n",
       "      <th>1</th>\n",
       "      <td>l1NXvwaE</td>\n",
       "      <td>True</td>\n",
       "      <td>1.500000e+12</td>\n",
       "      <td>1.500000e+12</td>\n",
       "      <td>16</td>\n",
       "      <td>resign</td>\n",
       "      <td>black</td>\n",
       "      <td>5+10</td>\n",
       "      <td>a-00</td>\n",
       "      <td>1322</td>\n",
       "      <td>skinnerua</td>\n",
       "      <td>1261</td>\n",
       "      <td>d4 Nc6 e4 e5 f4 f6 dxe5 fxe5 fxe5 Nxe5 Qd4 Nc6...</td>\n",
       "      <td>B00</td>\n",
       "      <td>Nimzowitsch Defense: Kennedy Variation</td>\n",
       "      <td>4</td>\n",
       "    </tr>\n",
       "    <tr>\n",
       "      <th>2</th>\n",
       "      <td>mIICvQHh</td>\n",
       "      <td>True</td>\n",
       "      <td>1.500000e+12</td>\n",
       "      <td>1.500000e+12</td>\n",
       "      <td>61</td>\n",
       "      <td>mate</td>\n",
       "      <td>white</td>\n",
       "      <td>5+10</td>\n",
       "      <td>ischia</td>\n",
       "      <td>1496</td>\n",
       "      <td>a-00</td>\n",
       "      <td>1500</td>\n",
       "      <td>e4 e5 d3 d6 Be3 c6 Be2 b5 Nd2 a5 a4 c5 axb5 Nc...</td>\n",
       "      <td>C20</td>\n",
       "      <td>King's Pawn Game: Leonardis Variation</td>\n",
       "      <td>3</td>\n",
       "    </tr>\n",
       "    <tr>\n",
       "      <th>3</th>\n",
       "      <td>kWKvrqYL</td>\n",
       "      <td>True</td>\n",
       "      <td>1.500000e+12</td>\n",
       "      <td>1.500000e+12</td>\n",
       "      <td>61</td>\n",
       "      <td>mate</td>\n",
       "      <td>white</td>\n",
       "      <td>20+0</td>\n",
       "      <td>daniamurashov</td>\n",
       "      <td>1439</td>\n",
       "      <td>adivanov2009</td>\n",
       "      <td>1454</td>\n",
       "      <td>d4 d5 Nf3 Bf5 Nc3 Nf6 Bf4 Ng4 e3 Nc6 Be2 Qd7 O...</td>\n",
       "      <td>D02</td>\n",
       "      <td>Queen's Pawn Game: Zukertort Variation</td>\n",
       "      <td>3</td>\n",
       "    </tr>\n",
       "    <tr>\n",
       "      <th>4</th>\n",
       "      <td>9tXo1AUZ</td>\n",
       "      <td>True</td>\n",
       "      <td>1.500000e+12</td>\n",
       "      <td>1.500000e+12</td>\n",
       "      <td>95</td>\n",
       "      <td>mate</td>\n",
       "      <td>white</td>\n",
       "      <td>30+3</td>\n",
       "      <td>nik221107</td>\n",
       "      <td>1523</td>\n",
       "      <td>adivanov2009</td>\n",
       "      <td>1469</td>\n",
       "      <td>e4 e5 Nf3 d6 d4 Nc6 d5 Nb4 a3 Na6 Nc3 Be7 b4 N...</td>\n",
       "      <td>C41</td>\n",
       "      <td>Philidor Defense</td>\n",
       "      <td>5</td>\n",
       "    </tr>\n",
       "  </tbody>\n",
       "</table>\n",
       "</div>"
      ],
      "text/plain": [
       "         id  rated    created_at  last_move_at  turns victory_status winner  \\\n",
       "0  TZJHLljE  False  1.500000e+12  1.500000e+12     13      outoftime  white   \n",
       "1  l1NXvwaE   True  1.500000e+12  1.500000e+12     16         resign  black   \n",
       "2  mIICvQHh   True  1.500000e+12  1.500000e+12     61           mate  white   \n",
       "3  kWKvrqYL   True  1.500000e+12  1.500000e+12     61           mate  white   \n",
       "4  9tXo1AUZ   True  1.500000e+12  1.500000e+12     95           mate  white   \n",
       "\n",
       "  increment_code       white_id  white_rating      black_id  black_rating  \\\n",
       "0           15+2       bourgris          1500          a-00          1191   \n",
       "1           5+10           a-00          1322     skinnerua          1261   \n",
       "2           5+10         ischia          1496          a-00          1500   \n",
       "3           20+0  daniamurashov          1439  adivanov2009          1454   \n",
       "4           30+3      nik221107          1523  adivanov2009          1469   \n",
       "\n",
       "                                               moves opening_eco  \\\n",
       "0  d4 d5 c4 c6 cxd5 e6 dxe6 fxe6 Nf3 Bb4+ Nc3 Ba5...         D10   \n",
       "1  d4 Nc6 e4 e5 f4 f6 dxe5 fxe5 fxe5 Nxe5 Qd4 Nc6...         B00   \n",
       "2  e4 e5 d3 d6 Be3 c6 Be2 b5 Nd2 a5 a4 c5 axb5 Nc...         C20   \n",
       "3  d4 d5 Nf3 Bf5 Nc3 Nf6 Bf4 Ng4 e3 Nc6 Be2 Qd7 O...         D02   \n",
       "4  e4 e5 Nf3 d6 d4 Nc6 d5 Nb4 a3 Na6 Nc3 Be7 b4 N...         C41   \n",
       "\n",
       "                             opening_name  opening_ply  \n",
       "0        Slav Defense: Exchange Variation            5  \n",
       "1  Nimzowitsch Defense: Kennedy Variation            4  \n",
       "2   King's Pawn Game: Leonardis Variation            3  \n",
       "3  Queen's Pawn Game: Zukertort Variation            3  \n",
       "4                        Philidor Defense            5  "
      ]
     },
     "execution_count": 3,
     "metadata": {},
     "output_type": "execute_result"
    }
   ],
   "source": [
    "chess.head()"
   ]
  },
  {
   "cell_type": "markdown",
   "id": "995ca7e9",
   "metadata": {},
   "source": [
    "# changing created_at and last_move_at columns to datetime data type"
   ]
  },
  {
   "cell_type": "code",
   "execution_count": 4,
   "id": "de2736a4",
   "metadata": {},
   "outputs": [],
   "source": [
    "chess_times = chess[['created_at','last_move_at']].copy()\n",
    "chess_times['created_at_dt'] = pd.to_datetime(chess_times['created_at']/1000, \n",
    "                                           unit='s', \n",
    "                                           origin='unix')\n",
    "\n",
    "chess_times['last_move_at_dt'] = pd.to_datetime(chess_times['last_move_at']/1000, \n",
    "                                             unit='s', \n",
    "                                             origin='unix')\n",
    "\n"
   ]
  },
  {
   "cell_type": "code",
   "execution_count": 5,
   "id": "b0dce056",
   "metadata": {},
   "outputs": [
    {
     "data": {
      "text/html": [
       "<div>\n",
       "<style scoped>\n",
       "    .dataframe tbody tr th:only-of-type {\n",
       "        vertical-align: middle;\n",
       "    }\n",
       "\n",
       "    .dataframe tbody tr th {\n",
       "        vertical-align: top;\n",
       "    }\n",
       "\n",
       "    .dataframe thead th {\n",
       "        text-align: right;\n",
       "    }\n",
       "</style>\n",
       "<table border=\"1\" class=\"dataframe\">\n",
       "  <thead>\n",
       "    <tr style=\"text-align: right;\">\n",
       "      <th></th>\n",
       "      <th>created_at</th>\n",
       "      <th>last_move_at</th>\n",
       "      <th>created_at_dt</th>\n",
       "      <th>last_move_at_dt</th>\n",
       "    </tr>\n",
       "  </thead>\n",
       "  <tbody>\n",
       "    <tr>\n",
       "      <th>0</th>\n",
       "      <td>1.500000e+12</td>\n",
       "      <td>1.500000e+12</td>\n",
       "      <td>2017-07-14 02:40:00</td>\n",
       "      <td>2017-07-14 02:40:00</td>\n",
       "    </tr>\n",
       "    <tr>\n",
       "      <th>1</th>\n",
       "      <td>1.500000e+12</td>\n",
       "      <td>1.500000e+12</td>\n",
       "      <td>2017-07-14 02:40:00</td>\n",
       "      <td>2017-07-14 02:40:00</td>\n",
       "    </tr>\n",
       "    <tr>\n",
       "      <th>2</th>\n",
       "      <td>1.500000e+12</td>\n",
       "      <td>1.500000e+12</td>\n",
       "      <td>2017-07-14 02:40:00</td>\n",
       "      <td>2017-07-14 02:40:00</td>\n",
       "    </tr>\n",
       "    <tr>\n",
       "      <th>3</th>\n",
       "      <td>1.500000e+12</td>\n",
       "      <td>1.500000e+12</td>\n",
       "      <td>2017-07-14 02:40:00</td>\n",
       "      <td>2017-07-14 02:40:00</td>\n",
       "    </tr>\n",
       "    <tr>\n",
       "      <th>4</th>\n",
       "      <td>1.500000e+12</td>\n",
       "      <td>1.500000e+12</td>\n",
       "      <td>2017-07-14 02:40:00</td>\n",
       "      <td>2017-07-14 02:40:00</td>\n",
       "    </tr>\n",
       "  </tbody>\n",
       "</table>\n",
       "</div>"
      ],
      "text/plain": [
       "     created_at  last_move_at       created_at_dt     last_move_at_dt\n",
       "0  1.500000e+12  1.500000e+12 2017-07-14 02:40:00 2017-07-14 02:40:00\n",
       "1  1.500000e+12  1.500000e+12 2017-07-14 02:40:00 2017-07-14 02:40:00\n",
       "2  1.500000e+12  1.500000e+12 2017-07-14 02:40:00 2017-07-14 02:40:00\n",
       "3  1.500000e+12  1.500000e+12 2017-07-14 02:40:00 2017-07-14 02:40:00\n",
       "4  1.500000e+12  1.500000e+12 2017-07-14 02:40:00 2017-07-14 02:40:00"
      ]
     },
     "execution_count": 5,
     "metadata": {},
     "output_type": "execute_result"
    }
   ],
   "source": [
    "chess_times.head()"
   ]
  },
  {
   "cell_type": "markdown",
   "id": "378feb06",
   "metadata": {},
   "source": [
    "### Am now seeing that these all have the same day and time. The data must have been input incorrectly. Will not be using these columns. "
   ]
  },
  {
   "cell_type": "code",
   "execution_count": 6,
   "id": "81ed7251",
   "metadata": {},
   "outputs": [
    {
     "data": {
      "text/html": [
       "<div>\n",
       "<style scoped>\n",
       "    .dataframe tbody tr th:only-of-type {\n",
       "        vertical-align: middle;\n",
       "    }\n",
       "\n",
       "    .dataframe tbody tr th {\n",
       "        vertical-align: top;\n",
       "    }\n",
       "\n",
       "    .dataframe thead th {\n",
       "        text-align: right;\n",
       "    }\n",
       "</style>\n",
       "<table border=\"1\" class=\"dataframe\">\n",
       "  <thead>\n",
       "    <tr style=\"text-align: right;\">\n",
       "      <th></th>\n",
       "      <th>id</th>\n",
       "      <th>rated</th>\n",
       "      <th>turns</th>\n",
       "      <th>victory_status</th>\n",
       "      <th>winner</th>\n",
       "      <th>increment_code</th>\n",
       "      <th>white_id</th>\n",
       "      <th>white_rating</th>\n",
       "      <th>black_id</th>\n",
       "      <th>black_rating</th>\n",
       "      <th>moves</th>\n",
       "      <th>opening_eco</th>\n",
       "      <th>opening_name</th>\n",
       "      <th>opening_ply</th>\n",
       "    </tr>\n",
       "  </thead>\n",
       "  <tbody>\n",
       "    <tr>\n",
       "      <th>0</th>\n",
       "      <td>TZJHLljE</td>\n",
       "      <td>False</td>\n",
       "      <td>13</td>\n",
       "      <td>outoftime</td>\n",
       "      <td>white</td>\n",
       "      <td>15+2</td>\n",
       "      <td>bourgris</td>\n",
       "      <td>1500</td>\n",
       "      <td>a-00</td>\n",
       "      <td>1191</td>\n",
       "      <td>d4 d5 c4 c6 cxd5 e6 dxe6 fxe6 Nf3 Bb4+ Nc3 Ba5...</td>\n",
       "      <td>D10</td>\n",
       "      <td>Slav Defense: Exchange Variation</td>\n",
       "      <td>5</td>\n",
       "    </tr>\n",
       "    <tr>\n",
       "      <th>1</th>\n",
       "      <td>l1NXvwaE</td>\n",
       "      <td>True</td>\n",
       "      <td>16</td>\n",
       "      <td>resign</td>\n",
       "      <td>black</td>\n",
       "      <td>5+10</td>\n",
       "      <td>a-00</td>\n",
       "      <td>1322</td>\n",
       "      <td>skinnerua</td>\n",
       "      <td>1261</td>\n",
       "      <td>d4 Nc6 e4 e5 f4 f6 dxe5 fxe5 fxe5 Nxe5 Qd4 Nc6...</td>\n",
       "      <td>B00</td>\n",
       "      <td>Nimzowitsch Defense: Kennedy Variation</td>\n",
       "      <td>4</td>\n",
       "    </tr>\n",
       "    <tr>\n",
       "      <th>2</th>\n",
       "      <td>mIICvQHh</td>\n",
       "      <td>True</td>\n",
       "      <td>61</td>\n",
       "      <td>mate</td>\n",
       "      <td>white</td>\n",
       "      <td>5+10</td>\n",
       "      <td>ischia</td>\n",
       "      <td>1496</td>\n",
       "      <td>a-00</td>\n",
       "      <td>1500</td>\n",
       "      <td>e4 e5 d3 d6 Be3 c6 Be2 b5 Nd2 a5 a4 c5 axb5 Nc...</td>\n",
       "      <td>C20</td>\n",
       "      <td>King's Pawn Game: Leonardis Variation</td>\n",
       "      <td>3</td>\n",
       "    </tr>\n",
       "    <tr>\n",
       "      <th>3</th>\n",
       "      <td>kWKvrqYL</td>\n",
       "      <td>True</td>\n",
       "      <td>61</td>\n",
       "      <td>mate</td>\n",
       "      <td>white</td>\n",
       "      <td>20+0</td>\n",
       "      <td>daniamurashov</td>\n",
       "      <td>1439</td>\n",
       "      <td>adivanov2009</td>\n",
       "      <td>1454</td>\n",
       "      <td>d4 d5 Nf3 Bf5 Nc3 Nf6 Bf4 Ng4 e3 Nc6 Be2 Qd7 O...</td>\n",
       "      <td>D02</td>\n",
       "      <td>Queen's Pawn Game: Zukertort Variation</td>\n",
       "      <td>3</td>\n",
       "    </tr>\n",
       "    <tr>\n",
       "      <th>4</th>\n",
       "      <td>9tXo1AUZ</td>\n",
       "      <td>True</td>\n",
       "      <td>95</td>\n",
       "      <td>mate</td>\n",
       "      <td>white</td>\n",
       "      <td>30+3</td>\n",
       "      <td>nik221107</td>\n",
       "      <td>1523</td>\n",
       "      <td>adivanov2009</td>\n",
       "      <td>1469</td>\n",
       "      <td>e4 e5 Nf3 d6 d4 Nc6 d5 Nb4 a3 Na6 Nc3 Be7 b4 N...</td>\n",
       "      <td>C41</td>\n",
       "      <td>Philidor Defense</td>\n",
       "      <td>5</td>\n",
       "    </tr>\n",
       "    <tr>\n",
       "      <th>...</th>\n",
       "      <td>...</td>\n",
       "      <td>...</td>\n",
       "      <td>...</td>\n",
       "      <td>...</td>\n",
       "      <td>...</td>\n",
       "      <td>...</td>\n",
       "      <td>...</td>\n",
       "      <td>...</td>\n",
       "      <td>...</td>\n",
       "      <td>...</td>\n",
       "      <td>...</td>\n",
       "      <td>...</td>\n",
       "      <td>...</td>\n",
       "      <td>...</td>\n",
       "    </tr>\n",
       "    <tr>\n",
       "      <th>20053</th>\n",
       "      <td>EfqH7VVH</td>\n",
       "      <td>True</td>\n",
       "      <td>24</td>\n",
       "      <td>resign</td>\n",
       "      <td>white</td>\n",
       "      <td>10+10</td>\n",
       "      <td>belcolt</td>\n",
       "      <td>1691</td>\n",
       "      <td>jamboger</td>\n",
       "      <td>1220</td>\n",
       "      <td>d4 f5 e3 e6 Nf3 Nf6 Nc3 b6 Be2 Bb7 O-O Be7 Ne5...</td>\n",
       "      <td>A80</td>\n",
       "      <td>Dutch Defense</td>\n",
       "      <td>2</td>\n",
       "    </tr>\n",
       "    <tr>\n",
       "      <th>20054</th>\n",
       "      <td>WSJDhbPl</td>\n",
       "      <td>True</td>\n",
       "      <td>82</td>\n",
       "      <td>mate</td>\n",
       "      <td>black</td>\n",
       "      <td>10+0</td>\n",
       "      <td>jamboger</td>\n",
       "      <td>1233</td>\n",
       "      <td>farrukhasomiddinov</td>\n",
       "      <td>1196</td>\n",
       "      <td>d4 d6 Bf4 e5 Bg3 Nf6 e3 exd4 exd4 d5 c3 Bd6 Bd...</td>\n",
       "      <td>A41</td>\n",
       "      <td>Queen's Pawn</td>\n",
       "      <td>2</td>\n",
       "    </tr>\n",
       "    <tr>\n",
       "      <th>20055</th>\n",
       "      <td>yrAas0Kj</td>\n",
       "      <td>True</td>\n",
       "      <td>35</td>\n",
       "      <td>mate</td>\n",
       "      <td>white</td>\n",
       "      <td>10+0</td>\n",
       "      <td>jamboger</td>\n",
       "      <td>1219</td>\n",
       "      <td>schaaksmurf3</td>\n",
       "      <td>1286</td>\n",
       "      <td>d4 d5 Bf4 Nc6 e3 Nf6 c3 e6 Nf3 Be7 Bd3 O-O Nbd...</td>\n",
       "      <td>D00</td>\n",
       "      <td>Queen's Pawn Game: Mason Attack</td>\n",
       "      <td>3</td>\n",
       "    </tr>\n",
       "    <tr>\n",
       "      <th>20056</th>\n",
       "      <td>b0v4tRyF</td>\n",
       "      <td>True</td>\n",
       "      <td>109</td>\n",
       "      <td>resign</td>\n",
       "      <td>white</td>\n",
       "      <td>10+0</td>\n",
       "      <td>marcodisogno</td>\n",
       "      <td>1360</td>\n",
       "      <td>jamboger</td>\n",
       "      <td>1227</td>\n",
       "      <td>e4 d6 d4 Nf6 e5 dxe5 dxe5 Qxd1+ Kxd1 Nd5 c4 Nb...</td>\n",
       "      <td>B07</td>\n",
       "      <td>Pirc Defense</td>\n",
       "      <td>4</td>\n",
       "    </tr>\n",
       "    <tr>\n",
       "      <th>20057</th>\n",
       "      <td>N8G2JHGG</td>\n",
       "      <td>True</td>\n",
       "      <td>78</td>\n",
       "      <td>mate</td>\n",
       "      <td>black</td>\n",
       "      <td>10+0</td>\n",
       "      <td>jamboger</td>\n",
       "      <td>1235</td>\n",
       "      <td>ffbob</td>\n",
       "      <td>1339</td>\n",
       "      <td>d4 d5 Bf4 Na6 e3 e6 c3 Nf6 Nf3 Bd7 Nbd2 b5 Bd3...</td>\n",
       "      <td>D00</td>\n",
       "      <td>Queen's Pawn Game: Mason Attack</td>\n",
       "      <td>3</td>\n",
       "    </tr>\n",
       "  </tbody>\n",
       "</table>\n",
       "<p>20058 rows × 14 columns</p>\n",
       "</div>"
      ],
      "text/plain": [
       "             id  rated  turns victory_status winner increment_code  \\\n",
       "0      TZJHLljE  False     13      outoftime  white           15+2   \n",
       "1      l1NXvwaE   True     16         resign  black           5+10   \n",
       "2      mIICvQHh   True     61           mate  white           5+10   \n",
       "3      kWKvrqYL   True     61           mate  white           20+0   \n",
       "4      9tXo1AUZ   True     95           mate  white           30+3   \n",
       "...         ...    ...    ...            ...    ...            ...   \n",
       "20053  EfqH7VVH   True     24         resign  white          10+10   \n",
       "20054  WSJDhbPl   True     82           mate  black           10+0   \n",
       "20055  yrAas0Kj   True     35           mate  white           10+0   \n",
       "20056  b0v4tRyF   True    109         resign  white           10+0   \n",
       "20057  N8G2JHGG   True     78           mate  black           10+0   \n",
       "\n",
       "            white_id  white_rating            black_id  black_rating  \\\n",
       "0           bourgris          1500                a-00          1191   \n",
       "1               a-00          1322           skinnerua          1261   \n",
       "2             ischia          1496                a-00          1500   \n",
       "3      daniamurashov          1439        adivanov2009          1454   \n",
       "4          nik221107          1523        adivanov2009          1469   \n",
       "...              ...           ...                 ...           ...   \n",
       "20053        belcolt          1691            jamboger          1220   \n",
       "20054       jamboger          1233  farrukhasomiddinov          1196   \n",
       "20055       jamboger          1219        schaaksmurf3          1286   \n",
       "20056   marcodisogno          1360            jamboger          1227   \n",
       "20057       jamboger          1235               ffbob          1339   \n",
       "\n",
       "                                                   moves opening_eco  \\\n",
       "0      d4 d5 c4 c6 cxd5 e6 dxe6 fxe6 Nf3 Bb4+ Nc3 Ba5...         D10   \n",
       "1      d4 Nc6 e4 e5 f4 f6 dxe5 fxe5 fxe5 Nxe5 Qd4 Nc6...         B00   \n",
       "2      e4 e5 d3 d6 Be3 c6 Be2 b5 Nd2 a5 a4 c5 axb5 Nc...         C20   \n",
       "3      d4 d5 Nf3 Bf5 Nc3 Nf6 Bf4 Ng4 e3 Nc6 Be2 Qd7 O...         D02   \n",
       "4      e4 e5 Nf3 d6 d4 Nc6 d5 Nb4 a3 Na6 Nc3 Be7 b4 N...         C41   \n",
       "...                                                  ...         ...   \n",
       "20053  d4 f5 e3 e6 Nf3 Nf6 Nc3 b6 Be2 Bb7 O-O Be7 Ne5...         A80   \n",
       "20054  d4 d6 Bf4 e5 Bg3 Nf6 e3 exd4 exd4 d5 c3 Bd6 Bd...         A41   \n",
       "20055  d4 d5 Bf4 Nc6 e3 Nf6 c3 e6 Nf3 Be7 Bd3 O-O Nbd...         D00   \n",
       "20056  e4 d6 d4 Nf6 e5 dxe5 dxe5 Qxd1+ Kxd1 Nd5 c4 Nb...         B07   \n",
       "20057  d4 d5 Bf4 Na6 e3 e6 c3 Nf6 Nf3 Bd7 Nbd2 b5 Bd3...         D00   \n",
       "\n",
       "                                 opening_name  opening_ply  \n",
       "0            Slav Defense: Exchange Variation            5  \n",
       "1      Nimzowitsch Defense: Kennedy Variation            4  \n",
       "2       King's Pawn Game: Leonardis Variation            3  \n",
       "3      Queen's Pawn Game: Zukertort Variation            3  \n",
       "4                            Philidor Defense            5  \n",
       "...                                       ...          ...  \n",
       "20053                           Dutch Defense            2  \n",
       "20054                            Queen's Pawn            2  \n",
       "20055         Queen's Pawn Game: Mason Attack            3  \n",
       "20056                            Pirc Defense            4  \n",
       "20057         Queen's Pawn Game: Mason Attack            3  \n",
       "\n",
       "[20058 rows x 14 columns]"
      ]
     },
     "execution_count": 6,
     "metadata": {},
     "output_type": "execute_result"
    }
   ],
   "source": [
    "chess.drop(['created_at', 'last_move_at'], axis=1)"
   ]
  },
  {
   "cell_type": "markdown",
   "id": "7a8c6f30",
   "metadata": {},
   "source": [
    "# Checking data types"
   ]
  },
  {
   "cell_type": "code",
   "execution_count": 7,
   "id": "d8632545",
   "metadata": {},
   "outputs": [
    {
     "name": "stdout",
     "output_type": "stream",
     "text": [
      "<class 'pandas.core.frame.DataFrame'>\n",
      "RangeIndex: 20058 entries, 0 to 20057\n",
      "Data columns (total 16 columns):\n",
      " #   Column          Non-Null Count  Dtype  \n",
      "---  ------          --------------  -----  \n",
      " 0   id              20058 non-null  object \n",
      " 1   rated           20058 non-null  bool   \n",
      " 2   created_at      20058 non-null  float64\n",
      " 3   last_move_at    20058 non-null  float64\n",
      " 4   turns           20058 non-null  int64  \n",
      " 5   victory_status  20058 non-null  object \n",
      " 6   winner          20058 non-null  object \n",
      " 7   increment_code  20058 non-null  object \n",
      " 8   white_id        20058 non-null  object \n",
      " 9   white_rating    20058 non-null  int64  \n",
      " 10  black_id        20058 non-null  object \n",
      " 11  black_rating    20058 non-null  int64  \n",
      " 12  moves           20058 non-null  object \n",
      " 13  opening_eco     20058 non-null  object \n",
      " 14  opening_name    20058 non-null  object \n",
      " 15  opening_ply     20058 non-null  int64  \n",
      "dtypes: bool(1), float64(2), int64(4), object(9)\n",
      "memory usage: 1.6+ MB\n"
     ]
    }
   ],
   "source": [
    "chess.info()"
   ]
  },
  {
   "cell_type": "markdown",
   "id": "831ad034",
   "metadata": {},
   "source": [
    "# Recoding winner column for regression"
   ]
  },
  {
   "cell_type": "code",
   "execution_count": 8,
   "id": "fadded94",
   "metadata": {},
   "outputs": [],
   "source": [
    "def recode (series):\n",
    "    if series == \"white\":\n",
    "        return 1\n",
    "    if series == \"black\":\n",
    "        return 2\n",
    "    if series == \"draw\":\n",
    "        return 3\n",
    "chess['winnerR'] = chess['winner'].apply(recode)"
   ]
  },
  {
   "cell_type": "markdown",
   "id": "059d5301",
   "metadata": {},
   "source": [
    "### Doing same with victory_status column"
   ]
  },
  {
   "cell_type": "code",
   "execution_count": 49,
   "id": "a1534d2f",
   "metadata": {},
   "outputs": [],
   "source": [
    "def recode1 (series):\n",
    "    if series == \"outoftime\":\n",
    "        return 1\n",
    "    if series == \"resign\":\n",
    "        return 2\n",
    "    if series == \"mate\":\n",
    "        return 3\n",
    "    if series == \"draw\":\n",
    "        return 4\n",
    "chess['victory_statusR'] = chess['victory_status'].apply(recode1)"
   ]
  },
  {
   "cell_type": "markdown",
   "id": "7ee590a0",
   "metadata": {},
   "source": [
    "# Now, dummy coding so I can utilize linear regression for some analyses"
   ]
  },
  {
   "cell_type": "code",
   "execution_count": 50,
   "id": "b1122efe",
   "metadata": {},
   "outputs": [],
   "source": [
    "WinnerDummy = pd.get_dummies(chess['winner'])"
   ]
  },
  {
   "cell_type": "code",
   "execution_count": 51,
   "id": "e0a334bc",
   "metadata": {},
   "outputs": [
    {
     "data": {
      "text/html": [
       "<div>\n",
       "<style scoped>\n",
       "    .dataframe tbody tr th:only-of-type {\n",
       "        vertical-align: middle;\n",
       "    }\n",
       "\n",
       "    .dataframe tbody tr th {\n",
       "        vertical-align: top;\n",
       "    }\n",
       "\n",
       "    .dataframe thead th {\n",
       "        text-align: right;\n",
       "    }\n",
       "</style>\n",
       "<table border=\"1\" class=\"dataframe\">\n",
       "  <thead>\n",
       "    <tr style=\"text-align: right;\">\n",
       "      <th></th>\n",
       "      <th>black</th>\n",
       "      <th>draw</th>\n",
       "      <th>white</th>\n",
       "    </tr>\n",
       "  </thead>\n",
       "  <tbody>\n",
       "    <tr>\n",
       "      <th>0</th>\n",
       "      <td>0</td>\n",
       "      <td>0</td>\n",
       "      <td>1</td>\n",
       "    </tr>\n",
       "    <tr>\n",
       "      <th>1</th>\n",
       "      <td>1</td>\n",
       "      <td>0</td>\n",
       "      <td>0</td>\n",
       "    </tr>\n",
       "    <tr>\n",
       "      <th>2</th>\n",
       "      <td>0</td>\n",
       "      <td>0</td>\n",
       "      <td>1</td>\n",
       "    </tr>\n",
       "    <tr>\n",
       "      <th>3</th>\n",
       "      <td>0</td>\n",
       "      <td>0</td>\n",
       "      <td>1</td>\n",
       "    </tr>\n",
       "    <tr>\n",
       "      <th>4</th>\n",
       "      <td>0</td>\n",
       "      <td>0</td>\n",
       "      <td>1</td>\n",
       "    </tr>\n",
       "  </tbody>\n",
       "</table>\n",
       "</div>"
      ],
      "text/plain": [
       "   black  draw  white\n",
       "0      0     0      1\n",
       "1      1     0      0\n",
       "2      0     0      1\n",
       "3      0     0      1\n",
       "4      0     0      1"
      ]
     },
     "execution_count": 51,
     "metadata": {},
     "output_type": "execute_result"
    }
   ],
   "source": [
    "WinnerDummy.head()"
   ]
  },
  {
   "cell_type": "code",
   "execution_count": 52,
   "id": "32f967f7",
   "metadata": {},
   "outputs": [],
   "source": [
    "chess1 = pd.concat([chess, WinnerDummy],axis=1)"
   ]
  },
  {
   "cell_type": "code",
   "execution_count": 12,
   "id": "d21a3ace",
   "metadata": {},
   "outputs": [
    {
     "data": {
      "text/html": [
       "<div>\n",
       "<style scoped>\n",
       "    .dataframe tbody tr th:only-of-type {\n",
       "        vertical-align: middle;\n",
       "    }\n",
       "\n",
       "    .dataframe tbody tr th {\n",
       "        vertical-align: top;\n",
       "    }\n",
       "\n",
       "    .dataframe thead th {\n",
       "        text-align: right;\n",
       "    }\n",
       "</style>\n",
       "<table border=\"1\" class=\"dataframe\">\n",
       "  <thead>\n",
       "    <tr style=\"text-align: right;\">\n",
       "      <th></th>\n",
       "      <th>id</th>\n",
       "      <th>rated</th>\n",
       "      <th>created_at</th>\n",
       "      <th>last_move_at</th>\n",
       "      <th>turns</th>\n",
       "      <th>victory_status</th>\n",
       "      <th>winner</th>\n",
       "      <th>increment_code</th>\n",
       "      <th>white_id</th>\n",
       "      <th>white_rating</th>\n",
       "      <th>black_id</th>\n",
       "      <th>black_rating</th>\n",
       "      <th>moves</th>\n",
       "      <th>opening_eco</th>\n",
       "      <th>opening_name</th>\n",
       "      <th>opening_ply</th>\n",
       "      <th>winnerR</th>\n",
       "      <th>black</th>\n",
       "      <th>draw</th>\n",
       "      <th>white</th>\n",
       "    </tr>\n",
       "  </thead>\n",
       "  <tbody>\n",
       "    <tr>\n",
       "      <th>0</th>\n",
       "      <td>TZJHLljE</td>\n",
       "      <td>False</td>\n",
       "      <td>1.500000e+12</td>\n",
       "      <td>1.500000e+12</td>\n",
       "      <td>13</td>\n",
       "      <td>outoftime</td>\n",
       "      <td>white</td>\n",
       "      <td>15+2</td>\n",
       "      <td>bourgris</td>\n",
       "      <td>1500</td>\n",
       "      <td>a-00</td>\n",
       "      <td>1191</td>\n",
       "      <td>d4 d5 c4 c6 cxd5 e6 dxe6 fxe6 Nf3 Bb4+ Nc3 Ba5...</td>\n",
       "      <td>D10</td>\n",
       "      <td>Slav Defense: Exchange Variation</td>\n",
       "      <td>5</td>\n",
       "      <td>1</td>\n",
       "      <td>0</td>\n",
       "      <td>0</td>\n",
       "      <td>1</td>\n",
       "    </tr>\n",
       "    <tr>\n",
       "      <th>1</th>\n",
       "      <td>l1NXvwaE</td>\n",
       "      <td>True</td>\n",
       "      <td>1.500000e+12</td>\n",
       "      <td>1.500000e+12</td>\n",
       "      <td>16</td>\n",
       "      <td>resign</td>\n",
       "      <td>black</td>\n",
       "      <td>5+10</td>\n",
       "      <td>a-00</td>\n",
       "      <td>1322</td>\n",
       "      <td>skinnerua</td>\n",
       "      <td>1261</td>\n",
       "      <td>d4 Nc6 e4 e5 f4 f6 dxe5 fxe5 fxe5 Nxe5 Qd4 Nc6...</td>\n",
       "      <td>B00</td>\n",
       "      <td>Nimzowitsch Defense: Kennedy Variation</td>\n",
       "      <td>4</td>\n",
       "      <td>2</td>\n",
       "      <td>1</td>\n",
       "      <td>0</td>\n",
       "      <td>0</td>\n",
       "    </tr>\n",
       "    <tr>\n",
       "      <th>2</th>\n",
       "      <td>mIICvQHh</td>\n",
       "      <td>True</td>\n",
       "      <td>1.500000e+12</td>\n",
       "      <td>1.500000e+12</td>\n",
       "      <td>61</td>\n",
       "      <td>mate</td>\n",
       "      <td>white</td>\n",
       "      <td>5+10</td>\n",
       "      <td>ischia</td>\n",
       "      <td>1496</td>\n",
       "      <td>a-00</td>\n",
       "      <td>1500</td>\n",
       "      <td>e4 e5 d3 d6 Be3 c6 Be2 b5 Nd2 a5 a4 c5 axb5 Nc...</td>\n",
       "      <td>C20</td>\n",
       "      <td>King's Pawn Game: Leonardis Variation</td>\n",
       "      <td>3</td>\n",
       "      <td>1</td>\n",
       "      <td>0</td>\n",
       "      <td>0</td>\n",
       "      <td>1</td>\n",
       "    </tr>\n",
       "    <tr>\n",
       "      <th>3</th>\n",
       "      <td>kWKvrqYL</td>\n",
       "      <td>True</td>\n",
       "      <td>1.500000e+12</td>\n",
       "      <td>1.500000e+12</td>\n",
       "      <td>61</td>\n",
       "      <td>mate</td>\n",
       "      <td>white</td>\n",
       "      <td>20+0</td>\n",
       "      <td>daniamurashov</td>\n",
       "      <td>1439</td>\n",
       "      <td>adivanov2009</td>\n",
       "      <td>1454</td>\n",
       "      <td>d4 d5 Nf3 Bf5 Nc3 Nf6 Bf4 Ng4 e3 Nc6 Be2 Qd7 O...</td>\n",
       "      <td>D02</td>\n",
       "      <td>Queen's Pawn Game: Zukertort Variation</td>\n",
       "      <td>3</td>\n",
       "      <td>1</td>\n",
       "      <td>0</td>\n",
       "      <td>0</td>\n",
       "      <td>1</td>\n",
       "    </tr>\n",
       "    <tr>\n",
       "      <th>4</th>\n",
       "      <td>9tXo1AUZ</td>\n",
       "      <td>True</td>\n",
       "      <td>1.500000e+12</td>\n",
       "      <td>1.500000e+12</td>\n",
       "      <td>95</td>\n",
       "      <td>mate</td>\n",
       "      <td>white</td>\n",
       "      <td>30+3</td>\n",
       "      <td>nik221107</td>\n",
       "      <td>1523</td>\n",
       "      <td>adivanov2009</td>\n",
       "      <td>1469</td>\n",
       "      <td>e4 e5 Nf3 d6 d4 Nc6 d5 Nb4 a3 Na6 Nc3 Be7 b4 N...</td>\n",
       "      <td>C41</td>\n",
       "      <td>Philidor Defense</td>\n",
       "      <td>5</td>\n",
       "      <td>1</td>\n",
       "      <td>0</td>\n",
       "      <td>0</td>\n",
       "      <td>1</td>\n",
       "    </tr>\n",
       "  </tbody>\n",
       "</table>\n",
       "</div>"
      ],
      "text/plain": [
       "         id  rated    created_at  last_move_at  turns victory_status winner  \\\n",
       "0  TZJHLljE  False  1.500000e+12  1.500000e+12     13      outoftime  white   \n",
       "1  l1NXvwaE   True  1.500000e+12  1.500000e+12     16         resign  black   \n",
       "2  mIICvQHh   True  1.500000e+12  1.500000e+12     61           mate  white   \n",
       "3  kWKvrqYL   True  1.500000e+12  1.500000e+12     61           mate  white   \n",
       "4  9tXo1AUZ   True  1.500000e+12  1.500000e+12     95           mate  white   \n",
       "\n",
       "  increment_code       white_id  white_rating      black_id  black_rating  \\\n",
       "0           15+2       bourgris          1500          a-00          1191   \n",
       "1           5+10           a-00          1322     skinnerua          1261   \n",
       "2           5+10         ischia          1496          a-00          1500   \n",
       "3           20+0  daniamurashov          1439  adivanov2009          1454   \n",
       "4           30+3      nik221107          1523  adivanov2009          1469   \n",
       "\n",
       "                                               moves opening_eco  \\\n",
       "0  d4 d5 c4 c6 cxd5 e6 dxe6 fxe6 Nf3 Bb4+ Nc3 Ba5...         D10   \n",
       "1  d4 Nc6 e4 e5 f4 f6 dxe5 fxe5 fxe5 Nxe5 Qd4 Nc6...         B00   \n",
       "2  e4 e5 d3 d6 Be3 c6 Be2 b5 Nd2 a5 a4 c5 axb5 Nc...         C20   \n",
       "3  d4 d5 Nf3 Bf5 Nc3 Nf6 Bf4 Ng4 e3 Nc6 Be2 Qd7 O...         D02   \n",
       "4  e4 e5 Nf3 d6 d4 Nc6 d5 Nb4 a3 Na6 Nc3 Be7 b4 N...         C41   \n",
       "\n",
       "                             opening_name  opening_ply  winnerR  black  draw  \\\n",
       "0        Slav Defense: Exchange Variation            5        1      0     0   \n",
       "1  Nimzowitsch Defense: Kennedy Variation            4        2      1     0   \n",
       "2   King's Pawn Game: Leonardis Variation            3        1      0     0   \n",
       "3  Queen's Pawn Game: Zukertort Variation            3        1      0     0   \n",
       "4                        Philidor Defense            5        1      0     0   \n",
       "\n",
       "   white  \n",
       "0      1  \n",
       "1      0  \n",
       "2      1  \n",
       "3      1  \n",
       "4      1  "
      ]
     },
     "execution_count": 12,
     "metadata": {},
     "output_type": "execute_result"
    }
   ],
   "source": [
    "chess1.head()"
   ]
  },
  {
   "cell_type": "markdown",
   "id": "eff53a45",
   "metadata": {},
   "source": [
    "# Setting white_rating and white variables into own dataframe for linear regression"
   ]
  },
  {
   "cell_type": "code",
   "execution_count": 53,
   "id": "b997a13f",
   "metadata": {},
   "outputs": [],
   "source": [
    "x = chess1['white_rating']\n",
    "y = chess1['white']"
   ]
  },
  {
   "cell_type": "markdown",
   "id": "ad887826",
   "metadata": {},
   "source": [
    "# Doing same thing for black_rating and black"
   ]
  },
  {
   "cell_type": "code",
   "execution_count": 54,
   "id": "f2716b97",
   "metadata": {},
   "outputs": [],
   "source": [
    "x1 = chess1[\"black_rating\"]\n",
    "y1 = chess1[\"black\"]"
   ]
  },
  {
   "cell_type": "markdown",
   "id": "b7be4889",
   "metadata": {},
   "source": []
  },
  {
   "cell_type": "code",
   "execution_count": 19,
   "id": "c070c5c0",
   "metadata": {},
   "outputs": [],
   "source": []
  },
  {
   "cell_type": "markdown",
   "id": "ba0776bc",
   "metadata": {},
   "source": [
    "# \"Trimming\" dataset for K nearest neighbors"
   ]
  },
  {
   "cell_type": "code",
   "execution_count": 55,
   "id": "b6c414f8",
   "metadata": {},
   "outputs": [],
   "source": [
    "chessTrimmed = chess1[[\"turns\", \"victory_statusR\", \"winnerR\", \"black_rating\", \"white_rating\"]]"
   ]
  },
  {
   "cell_type": "markdown",
   "id": "c6b11235",
   "metadata": {},
   "source": [
    "# Standardizing number of turns column"
   ]
  },
  {
   "cell_type": "code",
   "execution_count": 56,
   "id": "4e1e0ce0",
   "metadata": {},
   "outputs": [
    {
     "name": "stderr",
     "output_type": "stream",
     "text": [
      "<ipython-input-56-b266228e58f0>:6: SettingWithCopyWarning: \n",
      "A value is trying to be set on a copy of a slice from a DataFrame.\n",
      "Try using .loc[row_indexer,col_indexer] = value instead\n",
      "\n",
      "See the caveats in the documentation: https://pandas.pydata.org/pandas-docs/stable/user_guide/indexing.html#returning-a-view-versus-a-copy\n",
      "  chessTrimmed[\"turns\"] = standardize(chessTrimmed[\"turns\"])\n"
     ]
    }
   ],
   "source": [
    "def standardize(val):\n",
    "    p = (val - val.mean())/val.std()\n",
    "    return p\n",
    "\n",
    "\n",
    "chessTrimmed[\"turns\"] = standardize(chessTrimmed[\"turns\"])"
   ]
  },
  {
   "cell_type": "markdown",
   "id": "684d44ed",
   "metadata": {},
   "source": [
    "# Scaling y variables"
   ]
  },
  {
   "cell_type": "code",
   "execution_count": 57,
   "id": "5b54b94f",
   "metadata": {},
   "outputs": [],
   "source": [
    "from sklearn.preprocessing import StandardScaler"
   ]
  },
  {
   "cell_type": "code",
   "execution_count": 58,
   "id": "d28450c6",
   "metadata": {},
   "outputs": [],
   "source": [
    "scaler = StandardScaler()\n",
    "scaler.fit(chessTrimmed.drop('winnerR', axis=1))\n",
    "scaledVariables = scaler.transform(chessTrimmed.drop('winnerR',axis=1))\n",
    "chessScaled = pd.DataFrame(scaledVariables, columns=chessTrimmed.columns[:-1])"
   ]
  },
  {
   "cell_type": "markdown",
   "id": "c3bbec28",
   "metadata": {},
   "source": [
    "## Creating new dataframe with most popular opening move and winner to easily create a visual for this"
   ]
  },
  {
   "cell_type": "code",
   "execution_count": 59,
   "id": "dbdbeb1f",
   "metadata": {},
   "outputs": [],
   "source": [
    "OpeningDummy = pd.get_dummies(chess['opening_name'])"
   ]
  },
  {
   "cell_type": "code",
   "execution_count": 60,
   "id": "6af86e1a",
   "metadata": {},
   "outputs": [],
   "source": [
    "chess_winner = chess[['winner']]"
   ]
  },
  {
   "cell_type": "code",
   "execution_count": 61,
   "id": "facd9646",
   "metadata": {},
   "outputs": [],
   "source": [
    "chess2 = pd.concat([chess_winner, OpeningDummy],axis=1)"
   ]
  },
  {
   "cell_type": "code",
   "execution_count": 62,
   "id": "5c119cc6",
   "metadata": {},
   "outputs": [],
   "source": [
    "chess3 = chess2[['winner', \"Van't Kruijs Opening\"]]"
   ]
  },
  {
   "cell_type": "code",
   "execution_count": 63,
   "id": "05a36351",
   "metadata": {},
   "outputs": [
    {
     "name": "stderr",
     "output_type": "stream",
     "text": [
      "<ipython-input-63-ac36784d50c4>:8: SettingWithCopyWarning: \n",
      "A value is trying to be set on a copy of a slice from a DataFrame.\n",
      "Try using .loc[row_indexer,col_indexer] = value instead\n",
      "\n",
      "See the caveats in the documentation: https://pandas.pydata.org/pandas-docs/stable/user_guide/indexing.html#returning-a-view-versus-a-copy\n",
      "  chess3['winnerR'] = chess3['winner'].apply(recode)\n"
     ]
    }
   ],
   "source": [
    "def recode (series):\n",
    "    if series == \"white\":\n",
    "        return 1\n",
    "    if series == \"black\":\n",
    "        return 2\n",
    "    if series == \"draw\":\n",
    "        return 3\n",
    "chess3['winnerR'] = chess3['winner'].apply(recode)"
   ]
  },
  {
   "cell_type": "code",
   "execution_count": 41,
   "id": "c50211c3",
   "metadata": {},
   "outputs": [
    {
     "data": {
      "text/plain": [
       "1    10001\n",
       "2     9107\n",
       "3      950\n",
       "Name: winnerR, dtype: int64"
      ]
     },
     "execution_count": 41,
     "metadata": {},
     "output_type": "execute_result"
    }
   ],
   "source": [
    "chess3.winnerR.value_counts()"
   ]
  },
  {
   "cell_type": "code",
   "execution_count": null,
   "id": "62731c92",
   "metadata": {},
   "outputs": [],
   "source": []
  },
  {
   "cell_type": "code",
   "execution_count": 43,
   "id": "291f33dd",
   "metadata": {},
   "outputs": [],
   "source": [
    "VK = chess3[(chess3[\"Van't Kruijs Opening\"] > 0)] [\"winnerR\"].value_counts().head(3)"
   ]
  },
  {
   "cell_type": "code",
   "execution_count": 44,
   "id": "43b6d2a4",
   "metadata": {},
   "outputs": [
    {
     "data": {
      "text/plain": [
       "2    226\n",
       "1    126\n",
       "3     16\n",
       "Name: winnerR, dtype: int64"
      ]
     },
     "execution_count": 44,
     "metadata": {},
     "output_type": "execute_result"
    }
   ],
   "source": [
    "VK"
   ]
  },
  {
   "cell_type": "markdown",
   "id": "85897b8d",
   "metadata": {},
   "source": [
    "# Exploratory Analysis"
   ]
  },
  {
   "cell_type": "code",
   "execution_count": 45,
   "id": "de00d117",
   "metadata": {},
   "outputs": [],
   "source": [
    "import matplotlib.pyplot as plt\n",
    "import seaborn as sns"
   ]
  },
  {
   "cell_type": "markdown",
   "id": "e2351c0b",
   "metadata": {},
   "source": [
    "## Dropping string columns to run a correlation matrix"
   ]
  },
  {
   "cell_type": "code",
   "execution_count": 64,
   "id": "901a063f",
   "metadata": {},
   "outputs": [],
   "source": [
    "chess4 = chess.drop(['id', 'winner', \"victory_status\", 'created_at', 'last_move_at', 'rated', 'increment_code', 'black_id', 'white_id', 'moves', 'opening_eco', 'opening_name'], axis=1)"
   ]
  },
  {
   "cell_type": "code",
   "execution_count": 65,
   "id": "f866eff5",
   "metadata": {},
   "outputs": [
    {
     "data": {
      "text/html": [
       "<div>\n",
       "<style scoped>\n",
       "    .dataframe tbody tr th:only-of-type {\n",
       "        vertical-align: middle;\n",
       "    }\n",
       "\n",
       "    .dataframe tbody tr th {\n",
       "        vertical-align: top;\n",
       "    }\n",
       "\n",
       "    .dataframe thead th {\n",
       "        text-align: right;\n",
       "    }\n",
       "</style>\n",
       "<table border=\"1\" class=\"dataframe\">\n",
       "  <thead>\n",
       "    <tr style=\"text-align: right;\">\n",
       "      <th></th>\n",
       "      <th>turns</th>\n",
       "      <th>white_rating</th>\n",
       "      <th>black_rating</th>\n",
       "      <th>opening_ply</th>\n",
       "      <th>winnerR</th>\n",
       "      <th>victory_statusR</th>\n",
       "    </tr>\n",
       "  </thead>\n",
       "  <tbody>\n",
       "    <tr>\n",
       "      <th>0</th>\n",
       "      <td>13</td>\n",
       "      <td>1500</td>\n",
       "      <td>1191</td>\n",
       "      <td>5</td>\n",
       "      <td>1</td>\n",
       "      <td>1</td>\n",
       "    </tr>\n",
       "    <tr>\n",
       "      <th>1</th>\n",
       "      <td>16</td>\n",
       "      <td>1322</td>\n",
       "      <td>1261</td>\n",
       "      <td>4</td>\n",
       "      <td>2</td>\n",
       "      <td>2</td>\n",
       "    </tr>\n",
       "    <tr>\n",
       "      <th>2</th>\n",
       "      <td>61</td>\n",
       "      <td>1496</td>\n",
       "      <td>1500</td>\n",
       "      <td>3</td>\n",
       "      <td>1</td>\n",
       "      <td>3</td>\n",
       "    </tr>\n",
       "    <tr>\n",
       "      <th>3</th>\n",
       "      <td>61</td>\n",
       "      <td>1439</td>\n",
       "      <td>1454</td>\n",
       "      <td>3</td>\n",
       "      <td>1</td>\n",
       "      <td>3</td>\n",
       "    </tr>\n",
       "    <tr>\n",
       "      <th>4</th>\n",
       "      <td>95</td>\n",
       "      <td>1523</td>\n",
       "      <td>1469</td>\n",
       "      <td>5</td>\n",
       "      <td>1</td>\n",
       "      <td>3</td>\n",
       "    </tr>\n",
       "  </tbody>\n",
       "</table>\n",
       "</div>"
      ],
      "text/plain": [
       "   turns  white_rating  black_rating  opening_ply  winnerR  victory_statusR\n",
       "0     13          1500          1191            5        1                1\n",
       "1     16          1322          1261            4        2                2\n",
       "2     61          1496          1500            3        1                3\n",
       "3     61          1439          1454            3        1                3\n",
       "4     95          1523          1469            5        1                3"
      ]
     },
     "execution_count": 65,
     "metadata": {},
     "output_type": "execute_result"
    }
   ],
   "source": [
    "chess4.head()"
   ]
  },
  {
   "cell_type": "code",
   "execution_count": 66,
   "id": "58444dfb",
   "metadata": {},
   "outputs": [
    {
     "data": {
      "text/html": [
       "<div>\n",
       "<style scoped>\n",
       "    .dataframe tbody tr th:only-of-type {\n",
       "        vertical-align: middle;\n",
       "    }\n",
       "\n",
       "    .dataframe tbody tr th {\n",
       "        vertical-align: top;\n",
       "    }\n",
       "\n",
       "    .dataframe thead th {\n",
       "        text-align: right;\n",
       "    }\n",
       "</style>\n",
       "<table border=\"1\" class=\"dataframe\">\n",
       "  <thead>\n",
       "    <tr style=\"text-align: right;\">\n",
       "      <th></th>\n",
       "      <th>turns</th>\n",
       "      <th>white_rating</th>\n",
       "      <th>black_rating</th>\n",
       "      <th>opening_ply</th>\n",
       "      <th>winnerR</th>\n",
       "      <th>victory_statusR</th>\n",
       "    </tr>\n",
       "  </thead>\n",
       "  <tbody>\n",
       "    <tr>\n",
       "      <th>turns</th>\n",
       "      <td>1.000000</td>\n",
       "      <td>0.129753</td>\n",
       "      <td>0.160467</td>\n",
       "      <td>0.055999</td>\n",
       "      <td>0.129875</td>\n",
       "      <td>0.113909</td>\n",
       "    </tr>\n",
       "    <tr>\n",
       "      <th>white_rating</th>\n",
       "      <td>0.129753</td>\n",
       "      <td>1.000000</td>\n",
       "      <td>0.634171</td>\n",
       "      <td>0.277379</td>\n",
       "      <td>-0.093497</td>\n",
       "      <td>-0.084577</td>\n",
       "    </tr>\n",
       "    <tr>\n",
       "      <th>black_rating</th>\n",
       "      <td>0.160467</td>\n",
       "      <td>0.634171</td>\n",
       "      <td>1.000000</td>\n",
       "      <td>0.255396</td>\n",
       "      <td>0.160843</td>\n",
       "      <td>-0.087829</td>\n",
       "    </tr>\n",
       "    <tr>\n",
       "      <th>opening_ply</th>\n",
       "      <td>0.055999</td>\n",
       "      <td>0.277379</td>\n",
       "      <td>0.255396</td>\n",
       "      <td>1.000000</td>\n",
       "      <td>-0.006809</td>\n",
       "      <td>-0.034671</td>\n",
       "    </tr>\n",
       "    <tr>\n",
       "      <th>winnerR</th>\n",
       "      <td>0.129875</td>\n",
       "      <td>-0.093497</td>\n",
       "      <td>0.160843</td>\n",
       "      <td>-0.006809</td>\n",
       "      <td>1.000000</td>\n",
       "      <td>0.265574</td>\n",
       "    </tr>\n",
       "    <tr>\n",
       "      <th>victory_statusR</th>\n",
       "      <td>0.113909</td>\n",
       "      <td>-0.084577</td>\n",
       "      <td>-0.087829</td>\n",
       "      <td>-0.034671</td>\n",
       "      <td>0.265574</td>\n",
       "      <td>1.000000</td>\n",
       "    </tr>\n",
       "  </tbody>\n",
       "</table>\n",
       "</div>"
      ],
      "text/plain": [
       "                    turns  white_rating  black_rating  opening_ply   winnerR  \\\n",
       "turns            1.000000      0.129753      0.160467     0.055999  0.129875   \n",
       "white_rating     0.129753      1.000000      0.634171     0.277379 -0.093497   \n",
       "black_rating     0.160467      0.634171      1.000000     0.255396  0.160843   \n",
       "opening_ply      0.055999      0.277379      0.255396     1.000000 -0.006809   \n",
       "winnerR          0.129875     -0.093497      0.160843    -0.006809  1.000000   \n",
       "victory_statusR  0.113909     -0.084577     -0.087829    -0.034671  0.265574   \n",
       "\n",
       "                 victory_statusR  \n",
       "turns                   0.113909  \n",
       "white_rating           -0.084577  \n",
       "black_rating           -0.087829  \n",
       "opening_ply            -0.034671  \n",
       "winnerR                 0.265574  \n",
       "victory_statusR         1.000000  "
      ]
     },
     "execution_count": 66,
     "metadata": {},
     "output_type": "execute_result"
    }
   ],
   "source": [
    "chess4.corr(method='pearson')"
   ]
  },
  {
   "cell_type": "markdown",
   "id": "a24f0cfa",
   "metadata": {},
   "source": [
    "### Ratings are highly correlated (63%). Not seeing any other high correlations. "
   ]
  },
  {
   "cell_type": "markdown",
   "id": "2228a4ed",
   "metadata": {},
   "source": [
    "## Basic descriptive stats"
   ]
  },
  {
   "cell_type": "code",
   "execution_count": 67,
   "id": "0597a8af",
   "metadata": {},
   "outputs": [
    {
     "data": {
      "text/plain": [
       "1596.6318675840064"
      ]
     },
     "execution_count": 67,
     "metadata": {},
     "output_type": "execute_result"
    }
   ],
   "source": [
    "chess.white_rating.mean()"
   ]
  },
  {
   "cell_type": "code",
   "execution_count": 69,
   "id": "d9b64031",
   "metadata": {},
   "outputs": [
    {
     "data": {
      "text/plain": [
       "1588.8319872370128"
      ]
     },
     "execution_count": 69,
     "metadata": {},
     "output_type": "execute_result"
    }
   ],
   "source": [
    " chess.black_rating.mean()"
   ]
  },
  {
   "cell_type": "code",
   "execution_count": 68,
   "id": "76947901",
   "metadata": {},
   "outputs": [
    {
     "data": {
      "text/plain": [
       "1588.8319872370128"
      ]
     },
     "execution_count": 68,
     "metadata": {},
     "output_type": "execute_result"
    }
   ],
   "source": [
    "  chess.black_rating.mean()"
   ]
  },
  {
   "cell_type": "code",
   "execution_count": 70,
   "id": "f6727e1d",
   "metadata": {},
   "outputs": [
    {
     "data": {
      "text/plain": [
       "784"
      ]
     },
     "execution_count": 70,
     "metadata": {},
     "output_type": "execute_result"
    }
   ],
   "source": [
    "chess.white_rating.min()"
   ]
  },
  {
   "cell_type": "code",
   "execution_count": 71,
   "id": "4fe29d0e",
   "metadata": {},
   "outputs": [
    {
     "data": {
      "text/plain": [
       "789"
      ]
     },
     "execution_count": 71,
     "metadata": {},
     "output_type": "execute_result"
    }
   ],
   "source": [
    "chess.black_rating.min()"
   ]
  },
  {
   "cell_type": "code",
   "execution_count": 74,
   "id": "d7f31248",
   "metadata": {},
   "outputs": [
    {
     "data": {
      "text/plain": [
       "2700"
      ]
     },
     "execution_count": 74,
     "metadata": {},
     "output_type": "execute_result"
    }
   ],
   "source": [
    "chess.white_rating.max()"
   ]
  },
  {
   "cell_type": "code",
   "execution_count": 75,
   "id": "844bc0bf",
   "metadata": {},
   "outputs": [
    {
     "data": {
      "text/plain": [
       "2723"
      ]
     },
     "execution_count": 75,
     "metadata": {},
     "output_type": "execute_result"
    }
   ],
   "source": [
    "chess.black_rating.max()"
   ]
  },
  {
   "cell_type": "code",
   "execution_count": 76,
   "id": "4a824570",
   "metadata": {},
   "outputs": [
    {
     "data": {
      "text/plain": [
       "white    10001\n",
       "black     9107\n",
       "draw       950\n",
       "Name: winner, dtype: int64"
      ]
     },
     "execution_count": 76,
     "metadata": {},
     "output_type": "execute_result"
    }
   ],
   "source": [
    "chess.winner.value_counts()"
   ]
  },
  {
   "cell_type": "code",
   "execution_count": 77,
   "id": "8cc19e80",
   "metadata": {},
   "outputs": [
    {
     "data": {
      "text/plain": [
       "resign       11147\n",
       "mate          6325\n",
       "outoftime     1680\n",
       "draw           906\n",
       "Name: victory_status, dtype: int64"
      ]
     },
     "execution_count": 77,
     "metadata": {},
     "output_type": "execute_result"
    }
   ],
   "source": [
    "chess.victory_status.value_counts()"
   ]
  },
  {
   "cell_type": "code",
   "execution_count": 78,
   "id": "cad65be0",
   "metadata": {},
   "outputs": [
    {
     "data": {
      "text/plain": [
       "60.46599860404826"
      ]
     },
     "execution_count": 78,
     "metadata": {},
     "output_type": "execute_result"
    }
   ],
   "source": [
    "chess.turns.mean()"
   ]
  },
  {
   "cell_type": "code",
   "execution_count": 79,
   "id": "6c247e89",
   "metadata": {},
   "outputs": [
    {
     "data": {
      "text/plain": [
       "349"
      ]
     },
     "execution_count": 79,
     "metadata": {},
     "output_type": "execute_result"
    }
   ],
   "source": [
    "chess.turns.max()"
   ]
  },
  {
   "cell_type": "code",
   "execution_count": 80,
   "id": "8d99b07e",
   "metadata": {},
   "outputs": [
    {
     "data": {
      "text/plain": [
       "1"
      ]
     },
     "execution_count": 80,
     "metadata": {},
     "output_type": "execute_result"
    }
   ],
   "source": [
    "chess.turns.min()"
   ]
  },
  {
   "cell_type": "code",
   "execution_count": 81,
   "id": "b9b705b1",
   "metadata": {},
   "outputs": [
    {
     "data": {
      "text/plain": [
       "Van't Kruijs Opening                                                            368\n",
       "Sicilian Defense                                                                358\n",
       "Sicilian Defense: Bowdler Attack                                                296\n",
       "Scotch Game                                                                     271\n",
       "French Defense: Knight Variation                                                271\n",
       "                                                                               ... \n",
       "Grob Opening: Spike Attack                                                        1\n",
       "English Opening: Agincourt Defense |  Neo-Catalan Declined                        1\n",
       "Sicilian Defense: Paulsen Variation |  Bastrikov Variation |  English Attack      1\n",
       "Philidor Defense: Bird Gambit                                                     1\n",
       "French Defense: Classical Variation |  Pollock Variation                          1\n",
       "Name: opening_name, Length: 1477, dtype: int64"
      ]
     },
     "execution_count": 81,
     "metadata": {},
     "output_type": "execute_result"
    }
   ],
   "source": [
    "chess.opening_name.value_counts()"
   ]
  },
  {
   "cell_type": "code",
   "execution_count": null,
   "id": "d5e32be5",
   "metadata": {},
   "outputs": [],
   "source": []
  }
 ],
 "metadata": {
  "kernelspec": {
   "display_name": "Python 3",
   "language": "python",
   "name": "python3"
  },
  "language_info": {
   "codemirror_mode": {
    "name": "ipython",
    "version": 3
   },
   "file_extension": ".py",
   "mimetype": "text/x-python",
   "name": "python",
   "nbconvert_exporter": "python",
   "pygments_lexer": "ipython3",
   "version": "3.8.8"
  }
 },
 "nbformat": 4,
 "nbformat_minor": 5
}
