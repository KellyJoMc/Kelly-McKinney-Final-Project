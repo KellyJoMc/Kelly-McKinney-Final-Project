{
 "cells": [
  {
   "cell_type": "code",
   "execution_count": 1,
   "id": "1aee3f2e",
   "metadata": {},
   "outputs": [],
   "source": [
    "import pandas as pd\n",
    "import numpy as np\n",
    "import matplotlib.pyplot as plt\n",
    "import seaborn as sns\n",
    "%matplotlib inline\n",
    "from sklearn.ensemble import RandomForestClassifier\n",
    "from sklearn.model_selection import train_test_split\n",
    "from sklearn.metrics import classification_report, confusion_matrix, accuracy_score\n"
   ]
  },
  {
   "cell_type": "code",
   "execution_count": 2,
   "id": "5a0dcb21",
   "metadata": {},
   "outputs": [],
   "source": [
    "chess = pd.read_csv('chessTrimmed.csv')"
   ]
  },
  {
   "cell_type": "markdown",
   "id": "9c541494",
   "metadata": {},
   "source": [
    "# Creating a model with ratings, turns and victory_status"
   ]
  },
  {
   "cell_type": "code",
   "execution_count": 3,
   "id": "3bb9f743",
   "metadata": {},
   "outputs": [],
   "source": [
    "x = chess[['black_rating', 'white_rating', 'turns', 'victory_statusR']]\n",
    "y = chess['winnerR']"
   ]
  },
  {
   "cell_type": "code",
   "execution_count": 4,
   "id": "ed375433",
   "metadata": {},
   "outputs": [],
   "source": [
    "x_train, x_test, y_train, y_test = train_test_split(x,y, test_size=0.3)"
   ]
  },
  {
   "cell_type": "code",
   "execution_count": 5,
   "id": "8656821b",
   "metadata": {},
   "outputs": [
    {
     "data": {
      "text/plain": [
       "RandomForestClassifier()"
      ]
     },
     "execution_count": 5,
     "metadata": {},
     "output_type": "execute_result"
    }
   ],
   "source": [
    "forest = RandomForestClassifier(n_estimators=100)\n",
    "forest.fit(x_train, y_train)"
   ]
  },
  {
   "cell_type": "code",
   "execution_count": 6,
   "id": "82ba7302",
   "metadata": {},
   "outputs": [
    {
     "name": "stdout",
     "output_type": "stream",
     "text": [
      "[[2191  777    0]\n",
      " [ 987 1803    0]\n",
      " [   5    9  246]]\n",
      "              precision    recall  f1-score   support\n",
      "\n",
      "           1       0.69      0.74      0.71      2968\n",
      "           2       0.70      0.65      0.67      2790\n",
      "           3       1.00      0.95      0.97       260\n",
      "\n",
      "    accuracy                           0.70      6018\n",
      "   macro avg       0.79      0.78      0.79      6018\n",
      "weighted avg       0.71      0.70      0.70      6018\n",
      "\n"
     ]
    }
   ],
   "source": [
    "forestPredictions = forest.predict(x_test)\n",
    "print(confusion_matrix(y_test, forestPredictions))\n",
    "print(classification_report(y_test, forestPredictions))"
   ]
  },
  {
   "cell_type": "markdown",
   "id": "fd9d83be",
   "metadata": {},
   "source": [
    "## A lot more accuracy than the model with only predictors known beforehand. "
   ]
  },
  {
   "cell_type": "markdown",
   "id": "7612b651",
   "metadata": {},
   "source": [
    "## Tuning hyperparameters"
   ]
  },
  {
   "cell_type": "code",
   "execution_count": 7,
   "id": "7b0998e6",
   "metadata": {},
   "outputs": [],
   "source": [
    "from sklearn.model_selection import RandomizedSearchCV"
   ]
  },
  {
   "cell_type": "code",
   "execution_count": 8,
   "id": "aa0313d0",
   "metadata": {},
   "outputs": [
    {
     "name": "stdout",
     "output_type": "stream",
     "text": [
      "1 : 0.6297773346626786\n",
      "4 : 0.6583582585576604\n",
      "5 : 0.6782984380192755\n",
      "8 : 0.6748089066134929\n",
      "10 : 0.6861083416417414\n",
      "20 : 0.6954137587238285\n",
      "50 : 0.7085410435360585\n",
      "75 : 0.7057161847789963\n",
      "100 : 0.707876370887338\n"
     ]
    }
   ],
   "source": [
    "n_estimators_array = [1, 4, 5, 8, 10, 20, 50, 75, 100]\n",
    "results = []\n",
    "for n in n_estimators_array:\n",
    "    forest = RandomForestClassifier(n_estimators=n)\n",
    "    forest.fit(x_train, y_train)\n",
    "    result = accuracy_score(y_test, forest.predict(x_test))\n",
    "    results.append(result) \n",
    "    print(n, ':', result)"
   ]
  },
  {
   "cell_type": "markdown",
   "id": "718f2275",
   "metadata": {},
   "source": [
    "## 100 is most accurate. Checking other parameters"
   ]
  },
  {
   "cell_type": "code",
   "execution_count": 9,
   "id": "361294bc",
   "metadata": {},
   "outputs": [],
   "source": [
    "max_features = ['auto', None, 'log2']\n",
    "max_depth = [10, 20, 30, 40, 50, 60, 70, 80, 90, None]\n",
    "min_samples_leaf = [1, 2, 4]\n",
    "random_grid = {'max_features': max_features,\n",
    "               'max_depth': max_depth,\n",
    "               'min_samples_leaf': min_samples_leaf}"
   ]
  },
  {
   "cell_type": "code",
   "execution_count": 10,
   "id": "0a16297c",
   "metadata": {},
   "outputs": [],
   "source": [
    "rf = RandomForestClassifier(n_estimators=100)\n",
    "rf_random = RandomizedSearchCV(estimator = rf, param_distributions = random_grid, n_iter = 90, cv = 3)"
   ]
  },
  {
   "cell_type": "code",
   "execution_count": 11,
   "id": "ea463f4f",
   "metadata": {},
   "outputs": [
    {
     "data": {
      "text/plain": [
       "RandomizedSearchCV(cv=3, estimator=RandomForestClassifier(), n_iter=90,\n",
       "                   param_distributions={'max_depth': [10, 20, 30, 40, 50, 60,\n",
       "                                                      70, 80, 90, None],\n",
       "                                        'max_features': ['auto', None, 'log2'],\n",
       "                                        'min_samples_leaf': [1, 2, 4]})"
      ]
     },
     "execution_count": 11,
     "metadata": {},
     "output_type": "execute_result"
    }
   ],
   "source": [
    "rf_random.fit(x_train, y_train)"
   ]
  },
  {
   "cell_type": "code",
   "execution_count": 12,
   "id": "047b9807",
   "metadata": {},
   "outputs": [
    {
     "data": {
      "text/plain": [
       "{'min_samples_leaf': 2, 'max_features': 'log2', 'max_depth': 80}"
      ]
     },
     "execution_count": 12,
     "metadata": {},
     "output_type": "execute_result"
    }
   ],
   "source": [
    "rf_random.best_params_"
   ]
  },
  {
   "cell_type": "code",
   "execution_count": 13,
   "id": "157d7f29",
   "metadata": {},
   "outputs": [
    {
     "data": {
      "text/plain": [
       "RandomForestClassifier(max_depth=80, min_samples_leaf=2)"
      ]
     },
     "execution_count": 13,
     "metadata": {},
     "output_type": "execute_result"
    }
   ],
   "source": [
    "forest = RandomForestClassifier(n_estimators=100, min_samples_leaf=2, max_features=\"auto\", max_depth=80)\n",
    "forest.fit(x_train, y_train)"
   ]
  },
  {
   "cell_type": "code",
   "execution_count": null,
   "id": "8e67ecf2",
   "metadata": {},
   "outputs": [],
   "source": []
  },
  {
   "cell_type": "code",
   "execution_count": 14,
   "id": "2ca143c7",
   "metadata": {},
   "outputs": [
    {
     "name": "stdout",
     "output_type": "stream",
     "text": [
      "[[2198  770    0]\n",
      " [ 919 1871    0]\n",
      " [   5    9  246]]\n",
      "              precision    recall  f1-score   support\n",
      "\n",
      "           1       0.70      0.74      0.72      2968\n",
      "           2       0.71      0.67      0.69      2790\n",
      "           3       1.00      0.95      0.97       260\n",
      "\n",
      "    accuracy                           0.72      6018\n",
      "   macro avg       0.80      0.79      0.79      6018\n",
      "weighted avg       0.72      0.72      0.72      6018\n",
      "\n"
     ]
    }
   ],
   "source": [
    "forestPredictions = forest.predict(x_test)\n",
    "print(confusion_matrix(y_test, forestPredictions))\n",
    "print(classification_report(y_test, forestPredictions))"
   ]
  },
  {
   "cell_type": "markdown",
   "id": "782a7f1e",
   "metadata": {},
   "source": [
    "## Only slightly better than model before hyperparameter tuning. But I'll take it. "
   ]
  },
  {
   "cell_type": "markdown",
   "id": "ba42e2a1",
   "metadata": {},
   "source": [
    "## Checking feature importance"
   ]
  },
  {
   "cell_type": "code",
   "execution_count": 15,
   "id": "24526714",
   "metadata": {},
   "outputs": [
    {
     "data": {
      "text/plain": [
       "black_rating       0.279530\n",
       "white_rating       0.286332\n",
       "turns              0.251703\n",
       "victory_statusR    0.182435\n",
       "dtype: float64"
      ]
     },
     "execution_count": 15,
     "metadata": {},
     "output_type": "execute_result"
    }
   ],
   "source": [
    "feature_importances = pd.Series(forest.feature_importances_, index=x.columns)\n",
    "feature_importances"
   ]
  },
  {
   "cell_type": "markdown",
   "id": "a8b72e20",
   "metadata": {},
   "source": [
    "## It looks like white's rating is the most significant predictor, with black rating close behind. "
   ]
  },
  {
   "cell_type": "markdown",
   "id": "db283cb6",
   "metadata": {},
   "source": [
    "## Plotting feature importance"
   ]
  },
  {
   "cell_type": "code",
   "execution_count": 20,
   "id": "39704a5c",
   "metadata": {},
   "outputs": [
    {
     "name": "stderr",
     "output_type": "stream",
     "text": [
      "C:\\Users\\kelly\\anaconda3\\lib\\site-packages\\seaborn\\_decorators.py:36: FutureWarning: Pass the following variable as a keyword arg: x. From version 0.12, the only valid positional argument will be `data`, and passing other arguments without an explicit keyword will result in an error or misinterpretation.\n",
      "  warnings.warn(\n"
     ]
    },
    {
     "data": {
      "image/png": "[encoded data removed]",
      "text/plain": [
       "<Figure size 864x360 with 1 Axes>"
      ]
     },
     "metadata": {
      "needs_background": "light"
     },
     "output_type": "display_data"
    }
   ],
   "source": [
    "plt.figure(figsize=(12, 5))\n",
    "plt.title('Feature Importance', fontsize=24)\n",
    "plt.xlabel('Feature', fontsize=20)\n",
    "plt.xticks(fontsize=8)\n",
    "plt.ylabel('Importance scale', fontsize=20)\n",
    "plt.yticks(fontsize=10)\n",
    "sns.barplot(feature_importances.index, y=feature_importances.values, palette='Greys')\n",
    "plt.tight_layout()\n",
    "plt.show()"
   ]
  },
  {
   "cell_type": "code",
   "execution_count": null,
   "id": "03e763a1",
   "metadata": {},
   "outputs": [],
   "source": []
  }
 ],
 "metadata": {
  "kernelspec": {
   "display_name": "Python 3",
   "language": "python",
   "name": "python3"
  },
  "language_info": {
   "codemirror_mode": {
    "name": "ipython",
    "version": 3
   },
   "file_extension": ".py",
   "mimetype": "text/x-python",
   "name": "python",
   "nbconvert_exporter": "python",
   "pygments_lexer": "ipython3",
   "version": "3.8.8"
  }
 },
 "nbformat": 4,
 "nbformat_minor": 5
}
