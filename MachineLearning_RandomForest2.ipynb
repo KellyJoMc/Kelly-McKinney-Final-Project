{
 "cells": [
  {
   "cell_type": "code",
   "execution_count": 2,
   "id": "1aee3f2e",
   "metadata": {},
   "outputs": [],
   "source": [
    "import pandas as pd\n",
    "import numpy as np\n",
    "import matplotlib.pyplot as plt\n",
    "import seaborn as sns\n",
    "%matplotlib inline\n",
    "from sklearn.ensemble import RandomForestClassifier\n",
    "from sklearn.model_selection import train_test_split\n",
    "from sklearn.metrics import classification_report, confusion_matrix, accuracy_score\n"
   ]
  },
  {
   "cell_type": "code",
   "execution_count": 3,
   "id": "5a0dcb21",
   "metadata": {},
   "outputs": [],
   "source": [
    "chess = pd.read_csv('chessTrimmed.csv')"
   ]
  },
  {
   "cell_type": "markdown",
   "id": "9c541494",
   "metadata": {},
   "source": [
    "# Creating a model with ratings, turns and victory_status"
   ]
  },
  {
   "cell_type": "code",
   "execution_count": 4,
   "id": "3bb9f743",
   "metadata": {},
   "outputs": [],
   "source": [
    "x = chess[['black_rating', 'white_rating', 'turns', 'victory_statusR']]\n",
    "y = chess['winnerR']"
   ]
  },
  {
   "cell_type": "code",
   "execution_count": 5,
   "id": "ed375433",
   "metadata": {},
   "outputs": [],
   "source": [
    "x_train, x_test, y_train, y_test = train_test_split(x,y, test_size=0.3)"
   ]
  },
  {
   "cell_type": "code",
   "execution_count": 6,
   "id": "8656821b",
   "metadata": {},
   "outputs": [
    {
     "data": {
      "text/plain": [
       "RandomForestClassifier()"
      ]
     },
     "execution_count": 6,
     "metadata": {},
     "output_type": "execute_result"
    }
   ],
   "source": [
    "forest = RandomForestClassifier(n_estimators=100)\n",
    "forest.fit(x_train, y_train)"
   ]
  },
  {
   "cell_type": "code",
   "execution_count": 7,
   "id": "82ba7302",
   "metadata": {},
   "outputs": [
    {
     "name": "stdout",
     "output_type": "stream",
     "text": [
      "[[2159  857    0]\n",
      " [ 900 1794    1]\n",
      " [   5    9  293]]\n",
      "              precision    recall  f1-score   support\n",
      "\n",
      "           1       0.70      0.72      0.71      3016\n",
      "           2       0.67      0.67      0.67      2695\n",
      "           3       1.00      0.95      0.98       307\n",
      "\n",
      "    accuracy                           0.71      6018\n",
      "   macro avg       0.79      0.78      0.79      6018\n",
      "weighted avg       0.71      0.71      0.71      6018\n",
      "\n"
     ]
    }
   ],
   "source": [
    "forestPredictions = forest.predict(x_test)\n",
    "print(confusion_matrix(y_test, forestPredictions))\n",
    "print(classification_report(y_test, forestPredictions))"
   ]
  },
  {
   "cell_type": "markdown",
   "id": "fd9d83be",
   "metadata": {},
   "source": [
    "## A lot more accuracy than the model with only predictors known beforehand. "
   ]
  },
  {
   "cell_type": "markdown",
   "id": "7612b651",
   "metadata": {},
   "source": [
    "## Tuning hyperparameters"
   ]
  },
  {
   "cell_type": "code",
   "execution_count": 8,
   "id": "7b0998e6",
   "metadata": {},
   "outputs": [],
   "source": [
    "from sklearn.model_selection import RandomizedSearchCV"
   ]
  },
  {
   "cell_type": "code",
   "execution_count": 9,
   "id": "aa0313d0",
   "metadata": {},
   "outputs": [
    {
     "name": "stdout",
     "output_type": "stream",
     "text": [
      "1 : 0.6415752741774676\n",
      "4 : 0.6681621801262878\n",
      "5 : 0.6674975074775673\n",
      "8 : 0.6753074111000332\n",
      "10 : 0.6824526420737786\n",
      "20 : 0.693419740777667\n",
      "50 : 0.7033898305084746\n",
      "75 : 0.7038883349950149\n",
      "100 : 0.7042206713193752\n"
     ]
    }
   ],
   "source": [
    "n_estimators_array = [1, 4, 5, 8, 10, 20, 50, 75, 100]\n",
    "results = []\n",
    "for n in n_estimators_array:\n",
    "    forest = RandomForestClassifier(n_estimators=n)\n",
    "    forest.fit(x_train, y_train)\n",
    "    result = accuracy_score(y_test, forest.predict(x_test))\n",
    "    results.append(result) \n",
    "    print(n, ':', result)"
   ]
  },
  {
   "cell_type": "markdown",
   "id": "718f2275",
   "metadata": {},
   "source": [
    "## 100 is most accurate. Checking other parameters"
   ]
  },
  {
   "cell_type": "code",
   "execution_count": 10,
   "id": "361294bc",
   "metadata": {},
   "outputs": [],
   "source": [
    "max_features = ['auto', None, 'log2']\n",
    "max_depth = [10, 20, 30, 40, 50, 60, 70, 80, 90, None]\n",
    "min_samples_leaf = [1, 2, 4]\n",
    "random_grid = {'max_features': max_features,\n",
    "               'max_depth': max_depth,\n",
    "               'min_samples_leaf': min_samples_leaf}"
   ]
  },
  {
   "cell_type": "code",
   "execution_count": 11,
   "id": "0a16297c",
   "metadata": {},
   "outputs": [],
   "source": [
    "rf = RandomForestClassifier(n_estimators=100)\n",
    "rf_random = RandomizedSearchCV(estimator = rf, param_distributions = random_grid, n_iter = 90, cv = 3)"
   ]
  },
  {
   "cell_type": "code",
   "execution_count": 12,
   "id": "ea463f4f",
   "metadata": {},
   "outputs": [
    {
     "data": {
      "text/plain": [
       "RandomizedSearchCV(cv=3, estimator=RandomForestClassifier(), n_iter=90,\n",
       "                   param_distributions={'max_depth': [10, 20, 30, 40, 50, 60,\n",
       "                                                      70, 80, 90, None],\n",
       "                                        'max_features': ['auto', None, 'log2'],\n",
       "                                        'min_samples_leaf': [1, 2, 4]})"
      ]
     },
     "execution_count": 12,
     "metadata": {},
     "output_type": "execute_result"
    }
   ],
   "source": [
    "rf_random.fit(x_train, y_train)"
   ]
  },
  {
   "cell_type": "code",
   "execution_count": 13,
   "id": "047b9807",
   "metadata": {},
   "outputs": [
    {
     "data": {
      "text/plain": [
       "{'min_samples_leaf': 2, 'max_features': 'auto', 'max_depth': 80}"
      ]
     },
     "execution_count": 13,
     "metadata": {},
     "output_type": "execute_result"
    }
   ],
   "source": [
    "rf_random.best_params_"
   ]
  },
  {
   "cell_type": "code",
   "execution_count": 14,
   "id": "157d7f29",
   "metadata": {},
   "outputs": [
    {
     "data": {
      "text/plain": [
       "RandomForestClassifier(max_depth=80, min_samples_leaf=2)"
      ]
     },
     "execution_count": 14,
     "metadata": {},
     "output_type": "execute_result"
    }
   ],
   "source": [
    "forest = RandomForestClassifier(n_estimators=100, min_samples_leaf=2, max_features=\"auto\", max_depth=80)\n",
    "forest.fit(x_train, y_train)"
   ]
  },
  {
   "cell_type": "code",
   "execution_count": 15,
   "id": "2ca143c7",
   "metadata": {},
   "outputs": [
    {
     "name": "stdout",
     "output_type": "stream",
     "text": [
      "[[2171  845    0]\n",
      " [ 908 1787    0]\n",
      " [   4   10  293]]\n",
      "              precision    recall  f1-score   support\n",
      "\n",
      "           1       0.70      0.72      0.71      3016\n",
      "           2       0.68      0.66      0.67      2695\n",
      "           3       1.00      0.95      0.98       307\n",
      "\n",
      "    accuracy                           0.71      6018\n",
      "   macro avg       0.79      0.78      0.79      6018\n",
      "weighted avg       0.71      0.71      0.71      6018\n",
      "\n"
     ]
    }
   ],
   "source": [
    "forestPredictions = forest.predict(x_test)\n",
    "print(confusion_matrix(y_test, forestPredictions))\n",
    "print(classification_report(y_test, forestPredictions))"
   ]
  },
  {
   "cell_type": "markdown",
   "id": "782a7f1e",
   "metadata": {},
   "source": [
    "## Only slightly better than model before hyperparameter tuning. But I'll take it. "
   ]
  },
  {
   "cell_type": "markdown",
   "id": "ba42e2a1",
   "metadata": {},
   "source": [
    "## Checking feature importance"
   ]
  },
  {
   "cell_type": "code",
   "execution_count": 16,
   "id": "24526714",
   "metadata": {},
   "outputs": [
    {
     "data": {
      "text/plain": [
       "black_rating       0.292797\n",
       "white_rating       0.286393\n",
       "turns              0.247189\n",
       "victory_statusR    0.173622\n",
       "dtype: float64"
      ]
     },
     "execution_count": 16,
     "metadata": {},
     "output_type": "execute_result"
    }
   ],
   "source": [
    "feature_importances = pd.Series(forest.feature_importances_, index=x.columns)\n",
    "feature_importances"
   ]
  },
  {
   "cell_type": "markdown",
   "id": "a8b72e20",
   "metadata": {},
   "source": [
    "## It looks like black's rating is the most significant predictor, with white rating close behind. "
   ]
  },
  {
   "cell_type": "code",
   "execution_count": null,
   "id": "ee44b3a0",
   "metadata": {},
   "outputs": [],
   "source": []
  }
 ],
 "metadata": {
  "kernelspec": {
   "display_name": "Python 3",
   "language": "python",
   "name": "python3"
  },
  "language_info": {
   "codemirror_mode": {
    "name": "ipython",
    "version": 3
   },
   "file_extension": ".py",
   "mimetype": "text/x-python",
   "name": "python",
   "nbconvert_exporter": "python",
   "pygments_lexer": "ipython3",
   "version": "3.8.8"
  }
 },
 "nbformat": 4,
 "nbformat_minor": 5
}
