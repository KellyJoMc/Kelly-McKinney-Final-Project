{
 "cells": [
  {
   "cell_type": "code",
   "execution_count": 1,
   "id": "781ab275",
   "metadata": {},
   "outputs": [],
   "source": [
    "import pandas as pd\n",
    "import statsmodels.api as sm"
   ]
  },
  {
   "cell_type": "code",
   "execution_count": 2,
   "id": "377f1e0d",
   "metadata": {},
   "outputs": [],
   "source": [
    "chess1 = pd.read_csv(\"chess1.csv\")"
   ]
  },
  {
   "cell_type": "markdown",
   "id": "09a17db6",
   "metadata": {},
   "source": [
    "## Regression on white rating and whether white won"
   ]
  },
  {
   "cell_type": "code",
   "execution_count": 3,
   "id": "0832eff1",
   "metadata": {},
   "outputs": [],
   "source": [
    "x = chess1['white_rating']\n",
    "y = chess1['white']"
   ]
  },
  {
   "cell_type": "code",
   "execution_count": 4,
   "id": "9664d937",
   "metadata": {},
   "outputs": [
    {
     "name": "stdout",
     "output_type": "stream",
     "text": [
      "Optimization terminated successfully.\n",
      "         Current function value: 0.692941\n",
      "         Iterations 2\n",
      "                         Results: Logit\n",
      "=================================================================\n",
      "Model:              Logit            Pseudo R-squared: 0.000     \n",
      "Dependent Variable: white            AIC:              27800.0042\n",
      "Date:               2022-03-19 11:30 BIC:              27807.9106\n",
      "No. Observations:   20058            Log-Likelihood:   -13899.   \n",
      "Df Model:           0                LL-Null:          -13903.   \n",
      "Df Residuals:       20057            LLR p-value:      nan       \n",
      "Converged:          1.0000           Scale:            1.0000    \n",
      "No. Iterations:     2.0000                                       \n",
      "------------------------------------------------------------------\n",
      "                  Coef.   Std.Err.    z     P>|z|   [0.025  0.975]\n",
      "------------------------------------------------------------------\n",
      "white_rating      0.0000    0.0000  2.8786  0.0040  0.0000  0.0000\n",
      "=================================================================\n",
      "\n"
     ]
    }
   ],
   "source": [
    "logit = sm.Logit(y,x)\n",
    "results = logit.fit()\n",
    "print(results.summary2())"
   ]
  },
  {
   "cell_type": "markdown",
   "id": "2f7c0743",
   "metadata": {},
   "source": [
    "## is significant, but not sure this worked correctly. "
   ]
  },
  {
   "cell_type": "markdown",
   "id": "aae689f4",
   "metadata": {},
   "source": [
    "# Doing the same for black rating and whether black won"
   ]
  },
  {
   "cell_type": "code",
   "execution_count": 10,
   "id": "39c4980e",
   "metadata": {},
   "outputs": [],
   "source": [
    "x3 = chess1['black_rating']\n",
    "y3 = chess1['black']"
   ]
  },
  {
   "cell_type": "code",
   "execution_count": 11,
   "id": "ba346c03",
   "metadata": {},
   "outputs": [
    {
     "name": "stdout",
     "output_type": "stream",
     "text": [
      "Optimization terminated successfully.\n",
      "         Current function value: 0.691183\n",
      "         Iterations 3\n",
      "                         Results: Logit\n",
      "=================================================================\n",
      "Model:              Logit            Pseudo R-squared: -0.003    \n",
      "Dependent Variable: black            AIC:              27729.4807\n",
      "Date:               2022-03-19 11:46 BIC:              27737.3871\n",
      "No. Observations:   20058            Log-Likelihood:   -13864.   \n",
      "Df Model:           0                LL-Null:          -13818.   \n",
      "Df Residuals:       20057            LLR p-value:      nan       \n",
      "Converged:          1.0000           Scale:            1.0000    \n",
      "No. Iterations:     3.0000                                       \n",
      "------------------------------------------------------------------\n",
      "               Coef.   Std.Err.     z     P>|z|    [0.025   0.975]\n",
      "------------------------------------------------------------------\n",
      "black_rating  -0.0001    0.0000  -8.8677  0.0000  -0.0001  -0.0001\n",
      "=================================================================\n",
      "\n"
     ]
    }
   ],
   "source": [
    "logit = sm.Logit(y3,x3)\n",
    "results = logit.fit()\n",
    "print(results.summary2())"
   ]
  },
  {
   "cell_type": "markdown",
   "id": "29bf14f7",
   "metadata": {},
   "source": [
    "## Significant according to p-value, but can't be very significant given such a small co-efficient. "
   ]
  },
  {
   "cell_type": "markdown",
   "id": "01b29b8b",
   "metadata": {},
   "source": [
    "# Trying black rating and whether white won"
   ]
  },
  {
   "cell_type": "code",
   "execution_count": 12,
   "id": "8b501687",
   "metadata": {},
   "outputs": [],
   "source": [
    "x4 = chess1['black_rating']\n",
    "y4 = chess1['white']"
   ]
  },
  {
   "cell_type": "code",
   "execution_count": 13,
   "id": "64d2ba51",
   "metadata": {},
   "outputs": [
    {
     "name": "stdout",
     "output_type": "stream",
     "text": [
      "Optimization terminated successfully.\n",
      "         Current function value: 0.692583\n",
      "         Iterations 3\n",
      "                         Results: Logit\n",
      "=================================================================\n",
      "Model:              Logit            Pseudo R-squared: 0.001     \n",
      "Dependent Variable: white            AIC:              27785.6605\n",
      "Date:               2022-03-19 11:50 BIC:              27793.5669\n",
      "No. Observations:   20058            Log-Likelihood:   -13892.   \n",
      "Df Model:           0                LL-Null:          -13903.   \n",
      "Df Residuals:       20057            LLR p-value:      nan       \n",
      "Converged:          1.0000           Scale:            1.0000    \n",
      "No. Iterations:     3.0000                                       \n",
      "------------------------------------------------------------------\n",
      "               Coef.   Std.Err.     z     P>|z|    [0.025   0.975]\n",
      "------------------------------------------------------------------\n",
      "black_rating  -0.0000    0.0000  -4.7558  0.0000  -0.0001  -0.0000\n",
      "=================================================================\n",
      "\n"
     ]
    }
   ],
   "source": [
    "logit = sm.Logit(y4,x4)\n",
    "results = logit.fit()\n",
    "print(results.summary2())"
   ]
  },
  {
   "cell_type": "markdown",
   "id": "0d527f4f",
   "metadata": {},
   "source": [
    "## Significant p-value, but -0 coefficient. Not sure on this one. "
   ]
  },
  {
   "cell_type": "markdown",
   "id": "229906e8",
   "metadata": {},
   "source": [
    "# Logistic regression on turns and whether white won"
   ]
  },
  {
   "cell_type": "code",
   "execution_count": 5,
   "id": "1119598b",
   "metadata": {},
   "outputs": [],
   "source": [
    "x1 = chess1['turns']\n",
    "y1 = chess1['white']"
   ]
  },
  {
   "cell_type": "code",
   "execution_count": 6,
   "id": "debe3f16",
   "metadata": {},
   "outputs": [
    {
     "name": "stdout",
     "output_type": "stream",
     "text": [
      "Optimization terminated successfully.\n",
      "         Current function value: 0.692305\n",
      "         Iterations 3\n",
      "                         Results: Logit\n",
      "=================================================================\n",
      "Model:              Logit            Pseudo R-squared: 0.001     \n",
      "Dependent Variable: white            AIC:              27774.5159\n",
      "Date:               2022-03-19 11:34 BIC:              27782.4223\n",
      "No. Observations:   20058            Log-Likelihood:   -13886.   \n",
      "Df Model:           0                LL-Null:          -13903.   \n",
      "Df Residuals:       20057            LLR p-value:      nan       \n",
      "Converged:          1.0000           Scale:            1.0000    \n",
      "No. Iterations:     3.0000                                       \n",
      "-------------------------------------------------------------------\n",
      "           Coef.    Std.Err.      z      P>|z|     [0.025    0.975]\n",
      "-------------------------------------------------------------------\n",
      "turns     -0.0012     0.0002   -5.8062   0.0000   -0.0016   -0.0008\n",
      "=================================================================\n",
      "\n"
     ]
    }
   ],
   "source": [
    "logit = sm.Logit(y1,x1)\n",
    "results = logit.fit()\n",
    "print(results.summary2())"
   ]
  },
  {
   "cell_type": "markdown",
   "id": "4ef40360",
   "metadata": {},
   "source": [
    "## This is significant, but apparently not by much. Every additional turn decreases the likelihood that white will win by .1% "
   ]
  },
  {
   "cell_type": "markdown",
   "id": "0b4886eb",
   "metadata": {},
   "source": [
    "# Logistic regression on turns and whether black won"
   ]
  },
  {
   "cell_type": "code",
   "execution_count": 8,
   "id": "89e3364d",
   "metadata": {},
   "outputs": [],
   "source": [
    "x2 = chess1['turns']\n",
    "y2 = chess1['black']"
   ]
  },
  {
   "cell_type": "code",
   "execution_count": 9,
   "id": "fdc94113",
   "metadata": {},
   "outputs": [
    {
     "name": "stdout",
     "output_type": "stream",
     "text": [
      "Optimization terminated successfully.\n",
      "         Current function value: 0.690177\n",
      "         Iterations 3\n",
      "                         Results: Logit\n",
      "=================================================================\n",
      "Model:              Logit            Pseudo R-squared: -0.002    \n",
      "Dependent Variable: black            AIC:              27689.1502\n",
      "Date:               2022-03-19 11:39 BIC:              27697.0565\n",
      "No. Observations:   20058            Log-Likelihood:   -13844.   \n",
      "Df Model:           0                LL-Null:          -13818.   \n",
      "Df Residuals:       20057            LLR p-value:      nan       \n",
      "Converged:          1.0000           Scale:            1.0000    \n",
      "No. Iterations:     3.0000                                       \n",
      "-------------------------------------------------------------------\n",
      "          Coef.    Std.Err.      z       P>|z|     [0.025    0.975]\n",
      "-------------------------------------------------------------------\n",
      "turns    -0.0022     0.0002   -10.8787   0.0000   -0.0026   -0.0018\n",
      "=================================================================\n",
      "\n"
     ]
    }
   ],
   "source": [
    "logit = sm.Logit(y2,x2)\n",
    "results = logit.fit()\n",
    "print(results.summary2())"
   ]
  },
  {
   "cell_type": "markdown",
   "id": "e94561ad",
   "metadata": {},
   "source": [
    "## Again, significant, but apparently not by much. Every additional turn decreases the likelihood that black will win by .2%"
   ]
  },
  {
   "cell_type": "code",
   "execution_count": null,
   "id": "b8b590ac",
   "metadata": {},
   "outputs": [],
   "source": []
  }
 ],
 "metadata": {
  "kernelspec": {
   "display_name": "Python 3",
   "language": "python",
   "name": "python3"
  },
  "language_info": {
   "codemirror_mode": {
    "name": "ipython",
    "version": 3
   },
   "file_extension": ".py",
   "mimetype": "text/x-python",
   "name": "python",
   "nbconvert_exporter": "python",
   "pygments_lexer": "ipython3",
   "version": "3.8.8"
  }
 },
 "nbformat": 4,
 "nbformat_minor": 5
}
