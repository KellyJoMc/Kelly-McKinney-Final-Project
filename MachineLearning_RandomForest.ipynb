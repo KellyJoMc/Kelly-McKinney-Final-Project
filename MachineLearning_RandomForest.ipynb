{
 "cells": [
  {
   "cell_type": "code",
   "execution_count": 1,
   "id": "415f6fb1",
   "metadata": {},
   "outputs": [],
   "source": [
    "import pandas as pd\n",
    "import numpy as np\n",
    "import matplotlib.pyplot as plt\n",
    "import seaborn as sns\n",
    "%matplotlib inline\n",
    "from sklearn.ensemble import RandomForestClassifier\n",
    "from sklearn.model_selection import train_test_split\n",
    "from sklearn.metrics import classification_report, confusion_matrix"
   ]
  },
  {
   "cell_type": "code",
   "execution_count": 2,
   "id": "83d9a140",
   "metadata": {},
   "outputs": [],
   "source": [
    "chess = pd.read_csv('chessTrimmed.csv')"
   ]
  },
  {
   "cell_type": "code",
   "execution_count": 3,
   "id": "e6e0352f",
   "metadata": {},
   "outputs": [
    {
     "data": {
      "text/html": [
       "<div>\n",
       "<style scoped>\n",
       "    .dataframe tbody tr th:only-of-type {\n",
       "        vertical-align: middle;\n",
       "    }\n",
       "\n",
       "    .dataframe tbody tr th {\n",
       "        vertical-align: top;\n",
       "    }\n",
       "\n",
       "    .dataframe thead th {\n",
       "        text-align: right;\n",
       "    }\n",
       "</style>\n",
       "<table border=\"1\" class=\"dataframe\">\n",
       "  <thead>\n",
       "    <tr style=\"text-align: right;\">\n",
       "      <th></th>\n",
       "      <th>Unnamed: 0</th>\n",
       "      <th>turns</th>\n",
       "      <th>victory_statusR</th>\n",
       "      <th>winnerR</th>\n",
       "      <th>black_rating</th>\n",
       "      <th>white_rating</th>\n",
       "    </tr>\n",
       "  </thead>\n",
       "  <tbody>\n",
       "    <tr>\n",
       "      <th>0</th>\n",
       "      <td>0</td>\n",
       "      <td>-1.413916</td>\n",
       "      <td>1</td>\n",
       "      <td>1</td>\n",
       "      <td>1191</td>\n",
       "      <td>1500</td>\n",
       "    </tr>\n",
       "    <tr>\n",
       "      <th>1</th>\n",
       "      <td>1</td>\n",
       "      <td>-1.324552</td>\n",
       "      <td>2</td>\n",
       "      <td>2</td>\n",
       "      <td>1261</td>\n",
       "      <td>1322</td>\n",
       "    </tr>\n",
       "    <tr>\n",
       "      <th>2</th>\n",
       "      <td>2</td>\n",
       "      <td>0.015907</td>\n",
       "      <td>3</td>\n",
       "      <td>1</td>\n",
       "      <td>1500</td>\n",
       "      <td>1496</td>\n",
       "    </tr>\n",
       "    <tr>\n",
       "      <th>3</th>\n",
       "      <td>3</td>\n",
       "      <td>0.015907</td>\n",
       "      <td>3</td>\n",
       "      <td>1</td>\n",
       "      <td>1454</td>\n",
       "      <td>1439</td>\n",
       "    </tr>\n",
       "    <tr>\n",
       "      <th>4</th>\n",
       "      <td>4</td>\n",
       "      <td>1.028698</td>\n",
       "      <td>3</td>\n",
       "      <td>1</td>\n",
       "      <td>1469</td>\n",
       "      <td>1523</td>\n",
       "    </tr>\n",
       "  </tbody>\n",
       "</table>\n",
       "</div>"
      ],
      "text/plain": [
       "   Unnamed: 0     turns  victory_statusR  winnerR  black_rating  white_rating\n",
       "0           0 -1.413916                1        1          1191          1500\n",
       "1           1 -1.324552                2        2          1261          1322\n",
       "2           2  0.015907                3        1          1500          1496\n",
       "3           3  0.015907                3        1          1454          1439\n",
       "4           4  1.028698                3        1          1469          1523"
      ]
     },
     "execution_count": 3,
     "metadata": {},
     "output_type": "execute_result"
    }
   ],
   "source": [
    "chess.head()"
   ]
  },
  {
   "cell_type": "markdown",
   "id": "3f58c132",
   "metadata": {},
   "source": [
    "# First, trying models with predictors that can be known beforehand. Starting with just ratings, then adding in player ids, then adding in opening move. "
   ]
  },
  {
   "cell_type": "code",
   "execution_count": 4,
   "id": "24cf2c78",
   "metadata": {},
   "outputs": [],
   "source": [
    "x = chess[['black_rating', 'white_rating']]\n",
    "y = chess['winnerR']"
   ]
  },
  {
   "cell_type": "code",
   "execution_count": 5,
   "id": "06369652",
   "metadata": {},
   "outputs": [],
   "source": [
    "x_train, x_test, y_train, y_test = train_test_split(x,y, test_size=0.3)"
   ]
  },
  {
   "cell_type": "code",
   "execution_count": 6,
   "id": "2b20d0f2",
   "metadata": {},
   "outputs": [
    {
     "data": {
      "text/plain": [
       "RandomForestClassifier()"
      ]
     },
     "execution_count": 6,
     "metadata": {},
     "output_type": "execute_result"
    }
   ],
   "source": [
    "forest = RandomForestClassifier(n_estimators=100)\n",
    "forest.fit(x_train, y_train)"
   ]
  },
  {
   "cell_type": "code",
   "execution_count": 7,
   "id": "ec39a2f5",
   "metadata": {},
   "outputs": [
    {
     "name": "stdout",
     "output_type": "stream",
     "text": [
      "[[1955 1018   47]\n",
      " [1003 1668   40]\n",
      " [ 126  125   36]]\n",
      "              precision    recall  f1-score   support\n",
      "\n",
      "           1       0.63      0.65      0.64      3020\n",
      "           2       0.59      0.62      0.60      2711\n",
      "           3       0.29      0.13      0.18       287\n",
      "\n",
      "    accuracy                           0.61      6018\n",
      "   macro avg       0.51      0.46      0.47      6018\n",
      "weighted avg       0.60      0.61      0.60      6018\n",
      "\n"
     ]
    }
   ],
   "source": [
    "forestPredictions = forest.predict(x_test)\n",
    "print(confusion_matrix(y_test, forestPredictions))\n",
    "print(classification_report(y_test, forestPredictions))"
   ]
  },
  {
   "cell_type": "markdown",
   "id": "b9f9c709",
   "metadata": {},
   "source": [
    "## Not very accurate"
   ]
  },
  {
   "cell_type": "markdown",
   "id": "bd97aea5",
   "metadata": {},
   "source": [
    "## Adding in player ids"
   ]
  },
  {
   "cell_type": "code",
   "execution_count": 8,
   "id": "82ab4736",
   "metadata": {},
   "outputs": [],
   "source": [
    "chess1 = pd.read_csv('ChessRecodedWinnerAndVictory_status.csv')"
   ]
  },
  {
   "cell_type": "code",
   "execution_count": 9,
   "id": "0dc83ec6",
   "metadata": {},
   "outputs": [],
   "source": [
    "from sklearn.preprocessing import LabelEncoder\n",
    "encoder = LabelEncoder()\n",
    "chess1[\"white_id_cat\"] = encoder.fit_transform(chess1[\"white_id\"])\n",
    "chess1[\"black_id_cat\"] = encoder.fit_transform(chess1[\"black_id\"])\n"
   ]
  },
  {
   "cell_type": "code",
   "execution_count": 10,
   "id": "82746813",
   "metadata": {},
   "outputs": [
    {
     "data": {
      "text/plain": [
       "8213    72\n",
       "1629    53\n",
       "30      49\n",
       "1196    48\n",
       "7974    48\n",
       "        ..\n",
       "4180     1\n",
       "8274     1\n",
       "2119     1\n",
       "70       1\n",
       "2039     1\n",
       "Name: white_id_cat, Length: 9438, dtype: int64"
      ]
     },
     "execution_count": 10,
     "metadata": {},
     "output_type": "execute_result"
    }
   ],
   "source": [
    "chess1.white_id_cat.value_counts()"
   ]
  },
  {
   "cell_type": "code",
   "execution_count": 11,
   "id": "ed19cb2d",
   "metadata": {},
   "outputs": [],
   "source": [
    "x1 = chess1[['black_rating', 'white_rating', 'black_id_cat', 'white_id_cat']]\n",
    "y1 = chess1['winnerR']"
   ]
  },
  {
   "cell_type": "code",
   "execution_count": 12,
   "id": "73edbb17",
   "metadata": {},
   "outputs": [],
   "source": [
    "x_train, x_test, y_train, y_test = train_test_split(x1,y1, test_size=0.3)"
   ]
  },
  {
   "cell_type": "code",
   "execution_count": 13,
   "id": "52154f72",
   "metadata": {},
   "outputs": [
    {
     "data": {
      "text/plain": [
       "RandomForestClassifier()"
      ]
     },
     "execution_count": 13,
     "metadata": {},
     "output_type": "execute_result"
    }
   ],
   "source": [
    "forest = RandomForestClassifier(n_estimators=100)\n",
    "forest.fit(x_train, y_train)"
   ]
  },
  {
   "cell_type": "code",
   "execution_count": 14,
   "id": "ebba387c",
   "metadata": {},
   "outputs": [
    {
     "name": "stdout",
     "output_type": "stream",
     "text": [
      "[[2061  996   11]\n",
      " [ 929 1707   13]\n",
      " [ 136  141   24]]\n",
      "              precision    recall  f1-score   support\n",
      "\n",
      "           1       0.66      0.67      0.67      3068\n",
      "           2       0.60      0.64      0.62      2649\n",
      "           3       0.50      0.08      0.14       301\n",
      "\n",
      "    accuracy                           0.63      6018\n",
      "   macro avg       0.59      0.47      0.47      6018\n",
      "weighted avg       0.63      0.63      0.62      6018\n",
      "\n"
     ]
    }
   ],
   "source": [
    "forestPredictions = forest.predict(x_test)\n",
    "print(confusion_matrix(y_test, forestPredictions))\n",
    "print(classification_report(y_test, forestPredictions))"
   ]
  },
  {
   "cell_type": "markdown",
   "id": "c731e3fb",
   "metadata": {},
   "source": [
    "## Slightly better. Now adding in opening move. "
   ]
  },
  {
   "cell_type": "code",
   "execution_count": 15,
   "id": "f5f32f77",
   "metadata": {},
   "outputs": [],
   "source": [
    "chess1[\"opening_name_cat\"] = encoder.fit_transform(chess1[\"opening_name\"])"
   ]
  },
  {
   "cell_type": "code",
   "execution_count": 16,
   "id": "48949188",
   "metadata": {},
   "outputs": [],
   "source": [
    "x2 = chess1[['black_rating', 'white_rating', 'black_id_cat', 'white_id_cat', 'opening_name_cat']]\n",
    "y2 = chess1['winnerR']"
   ]
  },
  {
   "cell_type": "code",
   "execution_count": 17,
   "id": "7c6e0789",
   "metadata": {},
   "outputs": [],
   "source": [
    "x_train, x_test, y_train, y_test = train_test_split(x2,y2, test_size=0.3)"
   ]
  },
  {
   "cell_type": "code",
   "execution_count": 18,
   "id": "770da811",
   "metadata": {},
   "outputs": [
    {
     "data": {
      "text/plain": [
       "RandomForestClassifier()"
      ]
     },
     "execution_count": 18,
     "metadata": {},
     "output_type": "execute_result"
    }
   ],
   "source": [
    "forest = RandomForestClassifier(n_estimators=100)\n",
    "forest.fit(x_train, y_train)"
   ]
  },
  {
   "cell_type": "code",
   "execution_count": 19,
   "id": "694895e9",
   "metadata": {},
   "outputs": [
    {
     "name": "stdout",
     "output_type": "stream",
     "text": [
      "[[2085  868    2]\n",
      " [1051 1730    9]\n",
      " [ 148  102   23]]\n",
      "              precision    recall  f1-score   support\n",
      "\n",
      "           1       0.63      0.71      0.67      2955\n",
      "           2       0.64      0.62      0.63      2790\n",
      "           3       0.68      0.08      0.15       273\n",
      "\n",
      "    accuracy                           0.64      6018\n",
      "   macro avg       0.65      0.47      0.48      6018\n",
      "weighted avg       0.64      0.64      0.63      6018\n",
      "\n"
     ]
    }
   ],
   "source": [
    "forestPredictions = forest.predict(x_test)\n",
    "print(confusion_matrix(y_test, forestPredictions))\n",
    "print(classification_report(y_test, forestPredictions))"
   ]
  },
  {
   "cell_type": "markdown",
   "id": "fbc20357",
   "metadata": {},
   "source": [
    "## Slightly better still. Will run hyperparameter tuning to see if can get better. "
   ]
  },
  {
   "cell_type": "code",
   "execution_count": 20,
   "id": "dd2119b7",
   "metadata": {},
   "outputs": [],
   "source": [
    "from sklearn.model_selection import RandomizedSearchCV\n",
    "from sklearn.metrics import accuracy_score"
   ]
  },
  {
   "cell_type": "code",
   "execution_count": 21,
   "id": "bfbe155a",
   "metadata": {},
   "outputs": [
    {
     "name": "stdout",
     "output_type": "stream",
     "text": [
      "1 : 0.53954802259887\n",
      "4 : 0.5837487537387837\n",
      "5 : 0.6048521103356597\n",
      "8 : 0.6153207045530077\n",
      "10 : 0.6100033233632436\n",
      "20 : 0.6249584579594549\n",
      "50 : 0.6321036889332003\n",
      "75 : 0.6272848122299768\n",
      "100 : 0.6402459288800266\n",
      "250 : 0.6331006979062812\n",
      "500 : 0.638251910933865\n"
     ]
    }
   ],
   "source": [
    "n_estimators_array = [1, 4, 5, 8, 10, 20, 50, 75, 100, 250, 500]\n",
    "results = []\n",
    "for n in n_estimators_array:\n",
    "    forest = RandomForestClassifier(n_estimators=n)\n",
    "    forest.fit(x_train, y_train)\n",
    "    result = accuracy_score(y_test, forest.predict(x_test))\n",
    "    results.append(result) \n",
    "    print(n, ':', result)"
   ]
  },
  {
   "cell_type": "markdown",
   "id": "db9bffaf",
   "metadata": {},
   "source": [
    "## Most accurate is 250 trees, but am going with 75 (only slightly less accurate and my machine got hung up while running 250)"
   ]
  },
  {
   "cell_type": "code",
   "execution_count": 22,
   "id": "94f6df45",
   "metadata": {},
   "outputs": [],
   "source": [
    "max_features = ['auto', None, 'log2']\n",
    "max_depth = [10, 20, 30, 40, 50, 60, 70, 80, 90, None]\n",
    "min_samples_leaf = [1, 2, 4]\n",
    "random_grid = {'max_features': max_features,\n",
    "               'max_depth': max_depth,\n",
    "               'min_samples_leaf': min_samples_leaf}"
   ]
  },
  {
   "cell_type": "code",
   "execution_count": 25,
   "id": "d379ac6d",
   "metadata": {},
   "outputs": [],
   "source": [
    "rf = RandomForestClassifier(n_estimators=50)\n",
    "rf_random = RandomizedSearchCV(estimator = rf, param_distributions = random_grid, n_iter = 90, cv = 3)"
   ]
  },
  {
   "cell_type": "code",
   "execution_count": 26,
   "id": "84a11aa8",
   "metadata": {},
   "outputs": [
    {
     "data": {
      "text/plain": [
       "RandomizedSearchCV(cv=3, estimator=RandomForestClassifier(n_estimators=50),\n",
       "                   n_iter=90,\n",
       "                   param_distributions={'max_depth': [10, 20, 30, 40, 50, 60,\n",
       "                                                      70, 80, 90, None],\n",
       "                                        'max_features': ['auto', None, 'log2'],\n",
       "                                        'min_samples_leaf': [1, 2, 4]})"
      ]
     },
     "execution_count": 26,
     "metadata": {},
     "output_type": "execute_result"
    }
   ],
   "source": [
    "rf_random.fit(x_train, y_train)"
   ]
  },
  {
   "cell_type": "code",
   "execution_count": 27,
   "id": "43e208ec",
   "metadata": {},
   "outputs": [
    {
     "data": {
      "text/plain": [
       "{'min_samples_leaf': 2, 'max_features': 'auto', 'max_depth': 10}"
      ]
     },
     "execution_count": 27,
     "metadata": {},
     "output_type": "execute_result"
    }
   ],
   "source": [
    "rf_random.best_params_"
   ]
  },
  {
   "cell_type": "code",
   "execution_count": 28,
   "id": "4de2fb7d",
   "metadata": {},
   "outputs": [
    {
     "data": {
      "text/plain": [
       "RandomForestClassifier(max_depth=10, min_samples_leaf=2, n_estimators=50)"
      ]
     },
     "execution_count": 28,
     "metadata": {},
     "output_type": "execute_result"
    }
   ],
   "source": [
    "forest = RandomForestClassifier(n_estimators=50, min_samples_leaf=2, max_features=\"auto\", max_depth=10)\n",
    "forest.fit(x_train, y_train)"
   ]
  },
  {
   "cell_type": "code",
   "execution_count": 29,
   "id": "99bf98be",
   "metadata": {},
   "outputs": [
    {
     "name": "stdout",
     "output_type": "stream",
     "text": [
      "[[2156  799    0]\n",
      " [1188 1602    0]\n",
      " [ 173   99    1]]\n",
      "              precision    recall  f1-score   support\n",
      "\n",
      "           1       0.61      0.73      0.67      2955\n",
      "           2       0.64      0.57      0.61      2790\n",
      "           3       1.00      0.00      0.01       273\n",
      "\n",
      "    accuracy                           0.62      6018\n",
      "   macro avg       0.75      0.44      0.43      6018\n",
      "weighted avg       0.64      0.62      0.61      6018\n",
      "\n"
     ]
    }
   ],
   "source": [
    "forestPredictions = forest.predict(x_test)\n",
    "print(confusion_matrix(y_test, forestPredictions))\n",
    "print(classification_report(y_test, forestPredictions))"
   ]
  },
  {
   "cell_type": "markdown",
   "id": "1b4f3e13",
   "metadata": {},
   "source": [
    "## Best model using these variables. The good news is it's 100 accurate at predicting a draw. The bad news is it's only 61% accurate at predicting a white win and 64% accurate at predicting a black one. Not reliable enough for real-world use. Will now create a machine learning model including more variables, though the additions are variables not known until after the game is played. Not much use for betting, etc., but could have applications. Anyway, I will do it (in a separate Python document I will call MachineLearning_RandomForest2). "
   ]
  },
  {
   "cell_type": "code",
   "execution_count": null,
   "id": "5e1cc3c8",
   "metadata": {},
   "outputs": [],
   "source": []
  }
 ],
 "metadata": {
  "kernelspec": {
   "display_name": "Python 3",
   "language": "python",
   "name": "python3"
  },
  "language_info": {
   "codemirror_mode": {
    "name": "ipython",
    "version": 3
   },
   "file_extension": ".py",
   "mimetype": "text/x-python",
   "name": "python",
   "nbconvert_exporter": "python",
   "pygments_lexer": "ipython3",
   "version": "3.8.8"
  }
 },
 "nbformat": 4,
 "nbformat_minor": 5
}
