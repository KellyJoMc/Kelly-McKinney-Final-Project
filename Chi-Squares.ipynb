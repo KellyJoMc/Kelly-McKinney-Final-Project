{
 "cells": [
  {
   "cell_type": "code",
   "execution_count": 2,
   "id": "4b30239f",
   "metadata": {},
   "outputs": [],
   "source": [
    "import pandas as pd\n",
    "from scipy import stats"
   ]
  },
  {
   "cell_type": "code",
   "execution_count": 4,
   "id": "e131586f",
   "metadata": {},
   "outputs": [],
   "source": [
    "chess = pd.read_csv(\"chess.csv\")"
   ]
  },
  {
   "cell_type": "markdown",
   "id": "59da31c3",
   "metadata": {},
   "source": [
    "# Independent chi-square of opening move and winner"
   ]
  },
  {
   "cell_type": "code",
   "execution_count": 6,
   "id": "c48b0401",
   "metadata": {},
   "outputs": [],
   "source": [
    "chess_crosstab = pd.crosstab(chess['opening_name'], chess['winner'])"
   ]
  },
  {
   "cell_type": "code",
   "execution_count": 7,
   "id": "b0e1fc0c",
   "metadata": {},
   "outputs": [
    {
     "data": {
      "text/plain": [
       "(4166.075251705757,\n",
       " 3.90997889766203e-45,\n",
       " 2952,\n",
       " array([[20.88553196,  2.17868182, 22.93578622],\n",
       "        [ 1.36209991,  0.14208794,  1.49581214],\n",
       "        [ 0.4540333 ,  0.04736265,  0.49860405],\n",
       "        ...,\n",
       "        [ 0.4540333 ,  0.04736265,  0.49860405],\n",
       "        [ 1.36209991,  0.14208794,  1.49581214],\n",
       "        [ 0.4540333 ,  0.04736265,  0.49860405]]))"
      ]
     },
     "execution_count": 7,
     "metadata": {},
     "output_type": "execute_result"
    }
   ],
   "source": [
    "stats.chi2_contingency(chess_crosstab)"
   ]
  },
  {
   "cell_type": "markdown",
   "id": "c1fd2607",
   "metadata": {},
   "source": [
    "## P-value is significant. However, test might not be accurate due to not meeting the assumption of a value of at least 5 in at least 80% of cells. "
   ]
  },
  {
   "cell_type": "markdown",
   "id": "af261afc",
   "metadata": {},
   "source": [
    "# Independent chi-square of opening move and victory status (mate, resignation, etc.)"
   ]
  },
  {
   "cell_type": "code",
   "execution_count": 9,
   "id": "c4ad135c",
   "metadata": {},
   "outputs": [
    {
     "data": {
      "text/plain": [
       "(5651.501302191441,\n",
       " 2.4593600860884674e-33,\n",
       " 4428,\n",
       " array([[ 2.07777445, 14.50543424,  3.8528268 , 25.5639645 ],\n",
       "        [ 0.13550703,  0.94600658,  0.25127131,  1.66721508],\n",
       "        [ 0.04516901,  0.31533553,  0.0837571 ,  0.55573836],\n",
       "        ...,\n",
       "        [ 0.04516901,  0.31533553,  0.0837571 ,  0.55573836],\n",
       "        [ 0.13550703,  0.94600658,  0.25127131,  1.66721508],\n",
       "        [ 0.04516901,  0.31533553,  0.0837571 ,  0.55573836]]))"
      ]
     },
     "execution_count": 9,
     "metadata": {},
     "output_type": "execute_result"
    }
   ],
   "source": [
    "chess_crosstab1 = pd.crosstab(chess['opening_name'], chess['victory_status'])\n",
    "stats.chi2_contingency(chess_crosstab1)"
   ]
  },
  {
   "cell_type": "markdown",
   "id": "04dce0a2",
   "metadata": {},
   "source": [
    "## Again, P-value is significant. However, test might not be accurate due to not meeting the assumption of a value of at least 5 in at least 80% of cells"
   ]
  },
  {
   "cell_type": "code",
   "execution_count": null,
   "id": "fe4736a4",
   "metadata": {},
   "outputs": [],
   "source": []
  }
 ],
 "metadata": {
  "kernelspec": {
   "display_name": "Python 3",
   "language": "python",
   "name": "python3"
  },
  "language_info": {
   "codemirror_mode": {
    "name": "ipython",
    "version": 3
   },
   "file_extension": ".py",
   "mimetype": "text/x-python",
   "name": "python",
   "nbconvert_exporter": "python",
   "pygments_lexer": "ipython3",
   "version": "3.8.8"
  }
 },
 "nbformat": 4,
 "nbformat_minor": 5
}
